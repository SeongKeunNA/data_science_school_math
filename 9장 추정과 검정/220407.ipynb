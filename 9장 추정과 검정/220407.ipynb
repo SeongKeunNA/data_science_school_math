{
 "cells": [
  {
   "cell_type": "markdown",
   "id": "f4334038",
   "metadata": {},
   "source": [
    "# 카이제곱검정"
   ]
  },
  {
   "cell_type": "markdown",
   "id": "e86ffb05",
   "metadata": {},
   "source": [
    "### 연습문제 9.5.4"
   ]
  },
  {
   "cell_type": "code",
   "execution_count": 3,
   "id": "773058c4",
   "metadata": {},
   "outputs": [
    {
     "data": {
      "text/plain": [
       "array([0, 0, 0, 0, 0, 5])"
      ]
     },
     "execution_count": 3,
     "metadata": {},
     "output_type": "execute_result"
    }
   ],
   "source": [
    "N = 5\n",
    "K = 6\n",
    "mu_0 = np.ones(K) / K\n",
    "np.random.seed(0)\n",
    "x = np.random.choice(K, N, p = mu_0)\n",
    "n = np.array([0,0,0,0,0,5])\n",
    "n"
   ]
  },
  {
   "cell_type": "code",
   "execution_count": 4,
   "id": "58b370d6",
   "metadata": {},
   "outputs": [
    {
     "data": {
      "text/plain": [
       "Power_divergenceResult(statistic=25.000000000000004, pvalue=0.00013933379118562602)"
      ]
     },
     "execution_count": 4,
     "metadata": {},
     "output_type": "execute_result"
    }
   ],
   "source": [
    "sp.stats.chisquare(n)"
   ]
  },
  {
   "cell_type": "markdown",
   "id": "e018dfa1",
   "metadata": {},
   "source": [
    "약 0.00014(0.014%)이다."
   ]
  },
  {
   "cell_type": "markdown",
   "id": "9a52ae24",
   "metadata": {},
   "source": [
    "### 연습문제 9.5.5"
   ]
  },
  {
   "cell_type": "code",
   "execution_count": 5,
   "id": "2b48daa2",
   "metadata": {},
   "outputs": [
    {
     "data": {
      "text/plain": [
       "(9.910060890453046,\n",
       " 0.00704786570249751,\n",
       " 2,\n",
       " array([[10.8, 13.6, 15.6],\n",
       "        [16.2, 20.4, 23.4]]))"
      ]
     },
     "execution_count": 5,
     "metadata": {},
     "output_type": "execute_result"
    }
   ],
   "source": [
    "obs = np.array([[4, 16, 20], [23, 18, 19]])\n",
    "sp.stats.chi2_contingency(obs)"
   ]
  },
  {
   "cell_type": "markdown",
   "id": "165360a2",
   "metadata": {},
   "source": [
    "유의확률이 약 0.7%로, 상관관계가 있다고 말할 수 있다."
   ]
  },
  {
   "cell_type": "markdown",
   "id": "315cf411",
   "metadata": {},
   "source": [
    "### 연습문제 9.5.6"
   ]
  },
  {
   "cell_type": "code",
   "execution_count": 6,
   "id": "1d008446",
   "metadata": {},
   "outputs": [
    {
     "data": {
      "text/plain": [
       "Ttest_indResult(statistic=0.596519621317167, pvalue=0.562790180213766)"
      ]
     },
     "execution_count": 6,
     "metadata": {},
     "output_type": "execute_result"
    }
   ],
   "source": [
    "arr1 = np.array([80, 75, 85, 50, 60, 75, 45, 70, 90, 95, 85, 80])\n",
    "arr2 = np.array([80, 85, 70, 80, 35, 55, 80])\n",
    "mu1 = 74.1\n",
    "mu2 = 69.2\n",
    "sp.stats.ttest_ind(arr1,arr2, equal_var=False)"
   ]
  },
  {
   "cell_type": "markdown",
   "id": "c350dc71",
   "metadata": {},
   "source": [
    "유의확률이 약 56%로 귀무가설을 기각하지 못한다. 즉, 두 반의 실력은 같다."
   ]
  }
 ],
 "metadata": {
  "kernelspec": {
   "display_name": "pytorch",
   "language": "python",
   "name": "pt1.1"
  },
  "language_info": {
   "codemirror_mode": {
    "name": "ipython",
    "version": 3
   },
   "file_extension": ".py",
   "mimetype": "text/x-python",
   "name": "python",
   "nbconvert_exporter": "python",
   "pygments_lexer": "ipython3",
   "version": "3.9.7"
  }
 },
 "nbformat": 4,
 "nbformat_minor": 5
}
