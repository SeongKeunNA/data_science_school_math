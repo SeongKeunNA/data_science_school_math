{
 "cells": [
  {
   "cell_type": "markdown",
   "id": "639437df",
   "metadata": {},
   "source": [
    "# 8.7 베타분포, 감마분포, 디리클레분포"
   ]
  },
  {
   "cell_type": "markdown",
   "id": "7c2fadf3",
   "metadata": {},
   "source": [
    "### 연습문제 8.7.1"
   ]
  },
  {
   "cell_type": "markdown",
   "id": "99b50340",
   "metadata": {},
   "source": [
    "노트작성"
   ]
  }
 ],
 "metadata": {
  "kernelspec": {
   "display_name": "pytorch",
   "language": "python",
   "name": "pt1.1"
  },
  "language_info": {
   "codemirror_mode": {
    "name": "ipython",
    "version": 3
   },
   "file_extension": ".py",
   "mimetype": "text/x-python",
   "name": "python",
   "nbconvert_exporter": "python",
   "pygments_lexer": "ipython3",
   "version": "3.9.7"
  }
 },
 "nbformat": 4,
 "nbformat_minor": 5
}
