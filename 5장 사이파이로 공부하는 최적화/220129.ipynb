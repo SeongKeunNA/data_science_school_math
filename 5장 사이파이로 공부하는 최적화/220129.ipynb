{
 "cells": [
  {
   "cell_type": "markdown",
   "id": "5ff0fcbe",
   "metadata": {},
   "source": [
    "# 5.2 제한조건이 있는 최적화 문제"
   ]
  },
  {
   "cell_type": "markdown",
   "id": "66c31ad6",
   "metadata": {},
   "source": [
    "### 등식 제한조건이 있는 최적화 문제"
   ]
  },
  {
   "cell_type": "markdown",
   "id": "eac4b2bf",
   "metadata": {},
   "source": [
    "#### 라그랑주 승수법"
   ]
  },
  {
   "cell_type": "markdown",
   "id": "1dab2d6a",
   "metadata": {},
   "source": [
    "제한조건 등식에 λ라는 새로운 변수를 곱해서 더한 함수를 목적함수로 하여 최적화함"
   ]
  },
  {
   "cell_type": "markdown",
   "id": "6f5f67f4",
   "metadata": {},
   "source": [
    "제한조건이 m개라면 x1, x2, ... xn, λ1, λ2, ... λm 이라는 n+m 개의 변수와 연립방정식이 생긴다."
   ]
  },
  {
   "cell_type": "markdown",
   "id": "bc17514a",
   "metadata": {},
   "source": [
    "### 사이파이를 사용하여 등식 제한조건이 있는 최적화 문제 계산하기"
   ]
  },
  {
   "cell_type": "markdown",
   "id": "4d81f81a",
   "metadata": {},
   "source": [
    "사이파이 optimize 서브패키지의 fmin_slsqp()"
   ]
  },
  {
   "cell_type": "markdown",
   "id": "6b7f5499",
   "metadata": {},
   "source": [
    "**fmin_slsqp(func_objective, x0, eqcons = [func_constraint1, func_constraint2])**"
   ]
  },
  {
   "cell_type": "markdown",
   "id": "8b420257",
   "metadata": {},
   "source": [
    "인수: 목적함수, 초깃값, 제한조건 함수의 리스트"
   ]
  },
  {
   "cell_type": "markdown",
   "id": "4fc43f93",
   "metadata": {},
   "source": [
    "### 연습문제 5.2."
   ]
  },
  {
   "cell_type": "code",
   "execution_count": 6,
   "id": "78a272c3",
   "metadata": {},
   "outputs": [
    {
     "name": "stdout",
     "output_type": "stream",
     "text": [
      "Optimization terminated successfully    (Exit mode 0)\n",
      "            Current function value: 1.3862943611198901\n",
      "            Iterations: 2\n",
      "            Function evaluations: 6\n",
      "            Gradient evaluations: 2\n"
     ]
    },
    {
     "data": {
      "text/plain": [
       "array([0.5, 0.5])"
      ]
     },
     "execution_count": 6,
     "metadata": {},
     "output_type": "execute_result"
    }
   ],
   "source": [
    "def e521(x):\n",
    "    return -np.log(x[0]) + -np.log(x[1])\n",
    "\n",
    "def eq_constraint521(x):\n",
    "    return x[0] + x[1] -1\n",
    "\n",
    "sp.optimize.fmin_slsqp(e521, np.array([1,1]), eqcons = [eq_constraint521])"
   ]
  },
  {
   "cell_type": "code",
   "execution_count": 7,
   "id": "200888a7",
   "metadata": {},
   "outputs": [
    {
     "name": "stdout",
     "output_type": "stream",
     "text": [
      "Optimization terminated successfully    (Exit mode 0)\n",
      "            Current function value: 1.4142135623747087\n",
      "            Iterations: 5\n",
      "            Function evaluations: 15\n",
      "            Gradient evaluations: 5\n"
     ]
    },
    {
     "data": {
      "text/plain": [
       "array([0.70710678, 0.70710678])"
      ]
     },
     "execution_count": 7,
     "metadata": {},
     "output_type": "execute_result"
    }
   ],
   "source": [
    "def e522(x):\n",
    "    return x[0] + x[1]\n",
    "\n",
    "def eq_constraint522(x):\n",
    "    return x[0]**2 + x[1]**2 -1\n",
    "\n",
    "sp.optimize.fmin_slsqp(e522, np.array([1,1]), eqcons = [eq_constraint522])"
   ]
  },
  {
   "cell_type": "markdown",
   "id": "4874e0ef",
   "metadata": {},
   "source": [
    "### 라그랑주 승수의 의미"
   ]
  },
  {
   "cell_type": "markdown",
   "id": "f9be4ac8",
   "metadata": {},
   "source": [
    "등식 제한조건 gi에 따라 해가 달라진다면 λi != 0"
   ]
  },
  {
   "cell_type": "markdown",
   "id": "d42d6030",
   "metadata": {},
   "source": [
    "### 부등식 제한조건이 있는 최적화 문제"
   ]
  },
  {
   "cell_type": "markdown",
   "id": "1099c9ac",
   "metadata": {},
   "source": [
    "부등식이 gj(x) >= 0 형태인 경우 양변에 -1룰 곱해서 부등호의 방향을 바꾼다."
   ]
  },
  {
   "cell_type": "markdown",
   "id": "1e9202f1",
   "metadata": {},
   "source": [
    "목적함수: h(x,λ) = f(x) + ∑λjgj(x)"
   ]
  },
  {
   "cell_type": "markdown",
   "id": "56496984",
   "metadata": {},
   "source": [
    "이 때 **KKT** 조건이 만족되어야 한다."
   ]
  },
  {
   "cell_type": "markdown",
   "id": "3e029b00",
   "metadata": {},
   "source": [
    "1. 모든 독립변수 x1, x2, ... xn에 대한 미분값이 0이다. ∂h(x,λ) / ∂xi = 0\n",
    "2. 모든 라그랑주 승수 λ1, λ2, ... , λn과 제한조건 부등식(λ에 대한 미분값)의 곱이 0이다. λj * ∂h(x,λ) / ∂λj = λj * gj = 0\n",
    "3. 라그랑주 승수는 음수가 아니어야 한다. λj >= 0"
   ]
  },
  {
   "cell_type": "markdown",
   "id": "4e129703",
   "metadata": {},
   "source": [
    "첫 번째 조건에서, 변수 x가 아닌 **라그랑주 승수 λ에 대한 미분은 0이 아니어도 된다.**"
   ]
  },
  {
   "cell_type": "markdown",
   "id": "e92993e5",
   "metadata": {},
   "source": [
    "두 번째 조건을 통해, 라그랑주 승수 λ에 대한 미분값이 0이거나 **라그랑주 승수 λ값 자체가 0이어도 된다**는 것을 알 수 있다."
   ]
  },
  {
   "cell_type": "markdown",
   "id": "d81c7a3d",
   "metadata": {},
   "source": [
    "세 번째 조건은 KKT 조건이 실제로 부등식 제한조건이 있는 최적화 문제와 같은 문제임을 보장하는 조건이다."
   ]
  },
  {
   "cell_type": "markdown",
   "id": "f5bf1194",
   "metadata": {},
   "source": [
    "부등식 제한조건이 있는 최적화 문제에서 제한조건은 다음 두 경우 중 하나이다."
   ]
  },
  {
   "cell_type": "markdown",
   "id": "48f19c17",
   "metadata": {},
   "source": [
    "1. 최적화 결과에 전혀 영향을 주지 않는 **쓸모없는** 제한조건\n",
    "2. 최적화 결과에 영향을 주는 **등식** 제한 조건"
   ]
  },
  {
   "cell_type": "markdown",
   "id": "be2653ff",
   "metadata": {},
   "source": [
    "### 연습문제 5.2.3"
   ]
  },
  {
   "cell_type": "markdown",
   "id": "03a7225a",
   "metadata": {},
   "source": [
    "2, 3"
   ]
  },
  {
   "cell_type": "markdown",
   "id": "68f987be",
   "metadata": {},
   "source": [
    "### 사이파이를 이용하여 부등식 제한조건이 있는 최적화 문제 계산하기"
   ]
  },
  {
   "cell_type": "markdown",
   "id": "41f8c42b",
   "metadata": {},
   "source": [
    "fmin_slsqp의 인수로 ieqcons 사용"
   ]
  },
  {
   "cell_type": "markdown",
   "id": "11065f40",
   "metadata": {},
   "source": [
    "**fmin_slsqp(func_objective, x0, ieqcons=[func_constraint1, func_constraint2])**"
   ]
  },
  {
   "cell_type": "markdown",
   "id": "deb52e11",
   "metadata": {},
   "source": [
    "* 단 ieqcons 인수에 들어가는 부등호의 부호는 0 또는 양수임 g >= 0"
   ]
  },
  {
   "cell_type": "code",
   "execution_count": 11,
   "id": "18d84bdc",
   "metadata": {},
   "outputs": [
    {
     "name": "stdout",
     "output_type": "stream",
     "text": [
      "Optimization terminated successfully    (Exit mode 0)\n",
      "            Current function value: 3.605551280732028\n",
      "            Iterations: 11\n",
      "            Function evaluations: 66\n",
      "            Gradient evaluations: 11\n"
     ]
    },
    {
     "data": {
      "text/plain": [
       "array([9.99999981e-01, 1.89941792e-08])"
      ]
     },
     "execution_count": 11,
     "metadata": {},
     "output_type": "execute_result"
    }
   ],
   "source": [
    "def f2(x):\n",
    "    return np.sqrt((x[0] - 4) ** 2 + (x[1] - 2) ** 2)\n",
    "\n",
    "# 제한 조건 상수\n",
    "k = 1\n",
    "def ieq_constraint(x):\n",
    "    return np.atleast_1d(k - np.sum(np.abs(x)))\n",
    "\n",
    "sp.optimize.fmin_slsqp(f2, np.array([0, 0]), ieqcons = [ieq_constraint])"
   ]
  },
  {
   "cell_type": "markdown",
   "id": "3c07f210",
   "metadata": {},
   "source": [
    "### 연습문제 5.2.4"
   ]
  },
  {
   "cell_type": "code",
   "execution_count": 15,
   "id": "1e6e4755",
   "metadata": {},
   "outputs": [
    {
     "name": "stdout",
     "output_type": "stream",
     "text": [
      "[array([9.99983654e-02, 1.63456102e-06]), array([1.99998457e-01, 1.54315231e-06]), array([2.99999770e-01, 2.29926611e-07]), array([3.99998929e-01, 1.07067885e-06]), array([4.99999937e-01, 6.34692395e-08]), array([5.99999256e-01, 7.43758148e-07]), array([6.99999453e-01, 5.47035342e-07]), array([7.99996737e-01, 3.26306021e-06]), array([8.99996068e-01, 3.93188638e-06]), array([9.99999981e-01, 1.89941792e-08]), array([1.09999747e+00, 2.53125152e-06]), array([1.19999702e+00, 2.97798576e-06]), array([1.29999828e+00, 1.71518317e-06]), array([1.39998962e+00, 1.03831667e-05]), array([1.49999387e+00, 6.13491897e-06]), array([1.59999230e+00, 7.69787823e-06]), array([1.69999189e+00, 8.11353019e-06]), array([1.79998452e+00, 1.54831185e-05]), array([1.89996414e+00, 3.58578938e-05]), array([1.9978564, 0.0021436]), array([2.04996867, 0.05003133]), array([2.0999624, 0.1000376]), array([2.14995881, 0.15004119]), array([2.19995764, 0.20004236]), array([2.24995824, 0.25004176]), array([2.29996022, 0.30003978]), array([2.34996308, 0.35003692]), array([2.39996653, 0.40003347]), array([2.44997024, 0.45002976]), array([2.4999741, 0.5000259]), array([2.54997786, 0.55002214]), array([2.59998146, 0.60001854]), array([2.64998482, 0.65001518]), array([2.69998786, 0.70001214]), array([2.74999055, 0.75000945]), array([2.79999289, 0.80000711]), array([2.84999484, 0.85000516]), array([2.89999645, 0.90000355]), array([2.94999769, 0.95000231]), array([2.9999986, 1.0000014]), array([3.04999924, 1.05000076]), array([3.10059469, 1.09940531]), array([3.15038447, 1.14961553]), array([3.20021066, 1.19978934]), array([3.25007447, 1.24992553]), array([3.29997629, 1.30002371]), array([3.34991528, 1.35008472]), array([3.39988882, 1.40011118]), array([3.44989189, 1.45010811]), array([3.49991639, 1.50008361]), array([3.54995088, 1.55004912]), array([3.59998176, 1.60001824]), array([3.65000014, 1.64999986]), array([3.7, 1.7]), array([3.74999952, 1.75000048]), array([3.79996722, 1.80003278]), array([3.85001735, 1.84998265]), array([3.89999744, 1.90000256]), array([3.95000299, 1.94999701]), array([4.00000057, 1.99999904]), array([4.00000216, 1.99999726]), array([3.99999964, 2.00000068]), array([3.9999991 , 2.00000318]), array([3.99999914, 1.9999994 ]), array([4.00000006, 1.99999894]), array([4.00000043, 1.99999927]), array([4.00000021, 2.00000051]), array([4.00000033, 2.0000003 ]), array([3.99999875, 1.99999994]), array([3.99999982, 1.9999989 ]), array([3.99999956, 2.00000052]), array([4.00000057, 1.99999895]), array([4.00000037, 1.99999942]), array([4.00000088, 1.99999947]), array([3.99999969, 1.99999955]), array([3.99999753, 2.00000282]), array([3.99999836, 1.9999955 ]), array([3.99999768, 2.0000002 ]), array([3.99999938, 2.        ]), array([4.00000041, 2.00000031]), array([3.99999992, 1.9999996 ]), array([3.99999992, 1.9999996 ]), array([3.99999992, 1.9999996 ]), array([3.99999992, 1.9999996 ]), array([3.99999992, 1.9999996 ]), array([3.99999992, 1.9999996 ]), array([3.99999992, 1.9999996 ]), array([3.99999992, 1.9999996 ]), array([3.99999992, 1.9999996 ]), array([3.99999992, 1.9999996 ]), array([3.99999992, 1.9999996 ]), array([3.99999992, 1.9999996 ]), array([3.99999992, 1.9999996 ]), array([3.99999992, 1.9999996 ]), array([3.99999992, 1.9999996 ]), array([3.99999992, 1.9999996 ]), array([3.99999992, 1.9999996 ]), array([3.99999992, 1.9999996 ]), array([3.99999992, 1.9999996 ]), array([3.99999992, 1.9999996 ])]\n"
     ]
    }
   ],
   "source": [
    "def f2(x):\n",
    "    return np.sqrt((x[0] - 4) ** 2 + (x[1] - 2) ** 2)\n",
    "\n",
    "# 제한 조건 상수\n",
    "\n",
    "def ieq_constraint(k):\n",
    "    return lambda x: np.atleast_1d(k - np.sum(np.abs(x)))\n",
    "opt = []\n",
    "k_range = np.linspace(0.1,10,100)\n",
    "for k in k_range:\n",
    "    opt += [\n",
    "        sp.optimize.fmin_slsqp(\n",
    "        f2, np.array([0, 0]), ieqcons = [ieq_constraint(k)], iprint = 0)\n",
    "    ]\n",
    "\n",
    "print(opt)"
   ]
  },
  {
   "cell_type": "markdown",
   "id": "f4e7f29a",
   "metadata": {},
   "source": [
    "### 5.3 선형계획법 문제와 이차계획법 문제"
   ]
  },
  {
   "cell_type": "markdown",
   "id": "36fac53f",
   "metadata": {},
   "source": [
    "### 선형게획법 문제"
   ]
  },
  {
   "cell_type": "markdown",
   "id": "476438ae",
   "metadata": {},
   "source": [
    "방정식이나 부등식 제한 조건을 가지는 선형 모형의 값을 최소화하는 문제"
   ]
  },
  {
   "cell_type": "markdown",
   "id": "2c876f2e",
   "metadata": {},
   "source": [
    "목적함수: **arg min_x cT@x**"
   ]
  },
  {
   "cell_type": "markdown",
   "id": "b1a3daa2",
   "metadata": {},
   "source": [
    "등식제한 조건: **A@x = b**(기본형), A@x <= b(정규형)"
   ]
  },
  {
   "cell_type": "markdown",
   "id": "3182e5c9",
   "metadata": {},
   "source": [
    "부등식 제한조건: **x >= 0**"
   ]
  },
  {
   "cell_type": "markdown",
   "id": "55a921e8",
   "metadata": {},
   "source": [
    "#### 예제"
   ]
  },
  {
   "cell_type": "markdown",
   "id": "38f16231",
   "metadata": {},
   "source": [
    "목적함수"
   ]
  },
  {
   "cell_type": "markdown",
   "id": "54273429",
   "metadata": {},
   "source": [
    " -3*x1 - 5* x2"
   ]
  },
  {
   "cell_type": "markdown",
   "id": "16f1b372",
   "metadata": {},
   "source": [
    "제한 조건"
   ]
  },
  {
   "cell_type": "markdown",
   "id": "00b80c7c",
   "metadata": {},
   "source": [
    "-x1 <= -100    "
   ]
  },
  {
   "cell_type": "markdown",
   "id": "dd0a95e8",
   "metadata": {},
   "source": [
    "-x2 <= 100"
   ]
  },
  {
   "cell_type": "markdown",
   "id": "e5708f00",
   "metadata": {},
   "source": [
    "x1 + 2*x2<= 500"
   ]
  },
  {
   "cell_type": "markdown",
   "id": "a387140a",
   "metadata": {},
   "source": [
    "4*x1+ 5*x2 <= 9800"
   ]
  },
  {
   "cell_type": "markdown",
   "id": "0926dda7",
   "metadata": {},
   "source": [
    "x1 >=0, x2 >= 0"
   ]
  },
  {
   "cell_type": "markdown",
   "id": "fc5bde01",
   "metadata": {},
   "source": [
    "이후 정규형 선형계획법 문제로 표현하여 풀이"
   ]
  },
  {
   "cell_type": "markdown",
   "id": "be654858",
   "metadata": {},
   "source": [
    "### 사이파이를 이용한 선형계획법 문제 계산"
   ]
  },
  {
   "cell_type": "markdown",
   "id": "fff6d35e",
   "metadata": {},
   "source": [
    "scipy.optimize 패키지의 linprog() 명령 사용"
   ]
  },
  {
   "cell_type": "markdown",
   "id": "810e354d",
   "metadata": {},
   "source": [
    "**linprog(c, A, b)**"
   ]
  },
  {
   "cell_type": "markdown",
   "id": "2026daad",
   "metadata": {},
   "source": [
    "* c: 목적함수의 계수 벡터\n",
    "* A: 등식 제한 조건의 계수 행렬\n",
    "* B: 등식 제한 조건의 상수 벡터"
   ]
  },
  {
   "cell_type": "code",
   "execution_count": 21,
   "id": "639b7915",
   "metadata": {},
   "outputs": [
    {
     "data": {
      "text/plain": [
       "     con: array([], dtype=float64)\n",
       "     fun: -1399.999994807386\n",
       " message: 'Optimization terminated successfully.'\n",
       "     nit: 6\n",
       "   slack: array([1.99999991e+02, 4.19920389e-06, 3.31136675e-07, 8.10000001e+03])\n",
       "  status: 0\n",
       " success: True\n",
       "       x: array([299.99999127, 100.0000042 ])"
      ]
     },
     "execution_count": 21,
     "metadata": {},
     "output_type": "execute_result"
    }
   ],
   "source": [
    "import scipy.optimize\n",
    "\n",
    "A = np.array([[-1, 0], [0, -1], [1, 2], [4, 5]])\n",
    "b = np.array([-100, -100, 500, 9800])\n",
    "c = np.array([-3, -5])\n",
    "\n",
    "result = sp.optimize.linprog(c, A, b)\n",
    "result"
   ]
  },
  {
   "cell_type": "markdown",
   "id": "74177e2c",
   "metadata": {},
   "source": [
    "### CVXPY를 이용한 선형계획법 문제 계산 (PuLP도 있음)"
   ]
  },
  {
   "cell_type": "code",
   "execution_count": 24,
   "id": "1e0c0a55",
   "metadata": {},
   "outputs": [
    {
     "name": "stdout",
     "output_type": "stream",
     "text": [
      "상태: optimal\n",
      "최적값: 299.9999992351282 100.0000004995861\n"
     ]
    }
   ],
   "source": [
    "import cvxpy as cp\n",
    "\n",
    "# 변수의 정의\n",
    "a = cp.Variable() # A의 생산량\n",
    "b = cp.Variable() # B의 생산량\n",
    "\n",
    "# 조건의 정의\n",
    "constraint = [\n",
    "    a >= 100,\n",
    "    b >= 100,\n",
    "    a + 2 * b <= 500,\n",
    "    4 * a + 5 * b <= 9000\n",
    "]\n",
    "\n",
    "#문제의 정의\n",
    "obj = cp.Maximize(3 * a + 5 * b)\n",
    "prob = cp.Problem(obj, constraint)\n",
    "\n",
    "# 계산\n",
    "prob.solve()\n",
    "\n",
    "# 결과\n",
    "print(\"상태:\", prob.status)\n",
    "print('최적값:', a.value, b.value)"
   ]
  },
  {
   "cell_type": "markdown",
   "id": "2b249534",
   "metadata": {},
   "source": [
    "### 이차 계획법 문제"
   ]
  },
  {
   "cell_type": "markdown",
   "id": "4b41f671",
   "metadata": {},
   "source": [
    "방정식이나 부등식 제한 조건을 가지는 일반화된 이차형식의 값을 최소화하는 문제(QP 문제)"
   ]
  },
  {
   "cell_type": "markdown",
   "id": "6db9b4a7",
   "metadata": {},
   "source": [
    "목적함수: 1/2 * x.T @ Q @ x + c.T @ x"
   ]
  },
  {
   "cell_type": "markdown",
   "id": "fb98878b",
   "metadata": {},
   "source": [
    "등식제한 조건: **A@x = b**(기본형), A@x <= b(정규형)"
   ]
  },
  {
   "cell_type": "markdown",
   "id": "16f380b0",
   "metadata": {},
   "source": [
    "부등식 제한조건: **x >= 0**"
   ]
  },
  {
   "cell_type": "markdown",
   "id": "63631d01",
   "metadata": {},
   "source": [
    "#### 예제"
   ]
  },
  {
   "cell_type": "markdown",
   "id": "dc78e58b",
   "metadata": {},
   "source": [
    "arg min_x x1 ** 2 + x2 ** 2"
   ]
  },
  {
   "cell_type": "markdown",
   "id": "4fd6b799",
   "metadata": {},
   "source": [
    "x1 + x2 - 1 = 0"
   ]
  },
  {
   "cell_type": "markdown",
   "id": "1b02f8a0",
   "metadata": {},
   "source": [
    "### CvxOpt를 이용한 이차계획법 문제 계산"
   ]
  },
  {
   "cell_type": "markdown",
   "id": "56f2c40c",
   "metadata": {},
   "source": [
    "* 넘파이의 ndarray 배열을 CvxOpt 전용의 matrix 자료형으로 바꿈\n",
    "* 정수 자료형을 사용하지 못하므로 항상 부동소수점 실수가 되도록 명시"
   ]
  },
  {
   "cell_type": "code",
   "execution_count": 26,
   "id": "9d78c125",
   "metadata": {},
   "outputs": [
    {
     "data": {
      "text/plain": [
       "array([[0.5],\n",
       "       [0.5]])"
      ]
     },
     "execution_count": 26,
     "metadata": {},
     "output_type": "execute_result"
    }
   ],
   "source": [
    "from cvxopt import matrix, solvers\n",
    "\n",
    "Q = matrix(np.diag([2.0, 2.0]))\n",
    "c = matrix(np.array([0.0, 0.0]))\n",
    "A = matrix(np.array([[1.0, 1.0]]))\n",
    "b = matrix(np.array([1.0]))\n",
    "\n",
    "sol = solvers.qp(Q, c, A=A, b=b)\n",
    "np.array(sol['x'])"
   ]
  },
  {
   "cell_type": "markdown",
   "id": "8c421b29",
   "metadata": {},
   "source": [
    "### 연습문제 5.3.1"
   ]
  },
  {
   "cell_type": "markdown",
   "id": "4ea1cee6",
   "metadata": {},
   "source": [
    "y1a1+ y2a2 + y3a3 = 0"
   ]
  },
  {
   "cell_type": "markdown",
   "id": "72b9ef9b",
   "metadata": {},
   "source": [
    "a1, a2, a3 >= 0"
   ]
  },
  {
   "cell_type": "markdown",
   "id": "93f8772a",
   "metadata": {},
   "source": [
    "a1 + a2 + a3 -1/2 * (y1y1*a1a1*x1Tx1 + y1y2*a1a2*x1Tx2+ y1y3*a1a3*x1Tx3 + y2y1*a2a1x2Tx1 + y2y2*a2a2*x2Tx2+ y2y3*a2a3*x2Tx3\n",
    "                    + y3y1*a3a1*x3Tx1 + y3y2*a3a2 * x3Tx2 + y3y3*a3a3*x3Tx3)"
   ]
  }
 ],
 "metadata": {
  "kernelspec": {
   "display_name": "pytorch",
   "language": "python",
   "name": "pt1.1"
  },
  "language_info": {
   "codemirror_mode": {
    "name": "ipython",
    "version": 3
   },
   "file_extension": ".py",
   "mimetype": "text/x-python",
   "name": "python",
   "nbconvert_exporter": "python",
   "pygments_lexer": "ipython3",
   "version": "3.9.7"
  }
 },
 "nbformat": 4,
 "nbformat_minor": 5
}
