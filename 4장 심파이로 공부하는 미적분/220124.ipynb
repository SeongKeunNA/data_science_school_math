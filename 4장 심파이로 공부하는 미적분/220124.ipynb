{
 "cells": [
  {
   "cell_type": "markdown",
   "id": "2ac5b23d",
   "metadata": {},
   "source": [
    "# 변분법"
   ]
  },
  {
   "cell_type": "markdown",
   "id": "0be1e27e",
   "metadata": {},
   "source": [
    "### 범함수"
   ]
  },
  {
   "cell_type": "markdown",
   "id": "e9e4cb62",
   "metadata": {},
   "source": [
    "**함수를 입력 받아 실수를 출력하는 것**"
   ]
  },
  {
   "cell_type": "markdown",
   "id": "640be8b5",
   "metadata": {},
   "source": [
    "**F[y(x)]**"
   ]
  },
  {
   "cell_type": "markdown",
   "id": "dff39fdc",
   "metadata": {},
   "source": [
    "범함숫값은 정적분으로 계산하는 경우가 많음"
   ]
  },
  {
   "cell_type": "markdown",
   "id": "39c88f8b",
   "metadata": {},
   "source": [
    "**변분법**: 입력인 함수가 변할 때 범함수의 출력이 어떻게 달라지는지를 계산"
   ]
  },
  {
   "cell_type": "markdown",
   "id": "a09088c0",
   "metadata": {},
   "source": [
    "### 범함수의 테일러 전개"
   ]
  },
  {
   "cell_type": "markdown",
   "id": "d61db3aa",
   "metadata": {},
   "source": [
    "일변수 함수 버전: f(x+ε) ~ f(x) + df / dx  * ε"
   ]
  },
  {
   "cell_type": "markdown",
   "id": "ca9b707b",
   "metadata": {},
   "source": [
    "*ε: 아주 작은 실수"
   ]
  },
  {
   "cell_type": "markdown",
   "id": "3cbddaaa",
   "metadata": {},
   "source": [
    "**범함수 버전: F[y(x) + εη(x)] ~ F[y(x)] + ε * ∫(δF / δy(x) * η(x) dx**"
   ]
  },
  {
   "cell_type": "markdown",
   "id": "c54dc52a",
   "metadata": {},
   "source": [
    "### 범함수의 도함수"
   ]
  },
  {
   "cell_type": "markdown",
   "id": "1d1628e4",
   "metadata": {},
   "source": [
    "위 식에서 ε의 변화에 의한 범함숫값의 변화는,"
   ]
  },
  {
   "cell_type": "markdown",
   "id": "298041a1",
   "metadata": {},
   "source": [
    "∫(δF / δy(x) * η(x) dx이다."
   ]
  },
  {
   "cell_type": "markdown",
   "id": "a0e68696",
   "metadata": {},
   "source": [
    "어떤  η(x) 함수에 대해서도 이 값이 0이 되려면"
   ]
  },
  {
   "cell_type": "markdown",
   "id": "82335dae",
   "metadata": {},
   "source": [
    "δF / δy(x) = 0이어야한다."
   ]
  },
  {
   "cell_type": "markdown",
   "id": "1b15c063",
   "metadata": {},
   "source": [
    "이 때 δF / δy(x)를 범함수의 도함수라고 하며, 함수의 도함수와 같은 역할을 한다."
   ]
  },
  {
   "cell_type": "markdown",
   "id": "4fcc41a5",
   "metadata": {},
   "source": [
    "### 적분형 범함수의 도함수"
   ]
  },
  {
   "cell_type": "markdown",
   "id": "4c2b1c9f",
   "metadata": {},
   "source": [
    "적분 기호 안의 연산을 y(x)와 x를 입력 변수로 받는 함수 G(y,x)라고 봄"
   ]
  },
  {
   "cell_type": "markdown",
   "id": "6bb873be",
   "metadata": {},
   "source": [
    "F[y(x)] = ∫G(y,x)dx"
   ]
  },
  {
   "cell_type": "markdown",
   "id": "a11aa878",
   "metadata": {},
   "source": [
    "이 때 δF / δy = ∂G /∂y"
   ]
  },
  {
   "cell_type": "markdown",
   "id": "94f446c9",
   "metadata": {},
   "source": [
    "#### 그레디언트 부스팅"
   ]
  },
  {
   "cell_type": "markdown",
   "id": "1036e165",
   "metadata": {},
   "source": [
    "주어진 목표함수 y(x)와 가장 비슷한 모형함수 y^(x)를 구하는 데 범함수인 손실함수를 사용"
   ]
  },
  {
   "cell_type": "markdown",
   "id": "aaf9ef78",
   "metadata": {},
   "source": [
    "L = ∫1/2 * (y^(x) - y(x))^2 dx"
   ]
  },
  {
   "cell_type": "markdown",
   "id": "6aeb5fe6",
   "metadata": {},
   "source": [
    "G(y^) = 1/2 * (y^(x) - y(x))^2"
   ]
  },
  {
   "cell_type": "markdown",
   "id": "d6ede1ae",
   "metadata": {},
   "source": [
    "δL / δy = ∂G /∂y = y^(x) - y(x)"
   ]
  },
  {
   "cell_type": "markdown",
   "id": "58c77d7e",
   "metadata": {},
   "source": [
    "### 오일러-라그랑주 공식"
   ]
  },
  {
   "cell_type": "markdown",
   "id": "8391288b",
   "metadata": {},
   "source": [
    "x, y(x) 이외에 y'(x) = dy / dx도 입력 변수로 받는 도함수가 있을 떄"
   ]
  },
  {
   "cell_type": "markdown",
   "id": "5e36791e",
   "metadata": {},
   "source": [
    "F[y(x)] = ∫G(y, y', x)dx"
   ]
  },
  {
   "cell_type": "markdown",
   "id": "dc697a55",
   "metadata": {},
   "source": [
    "이 때 범함수 F의 함수 y에 대한 도함수는,"
   ]
  },
  {
   "cell_type": "markdown",
   "id": "6461a027",
   "metadata": {},
   "source": [
    "**∂G  ∂y - d(∂G / ∂y') / dx**"
   ]
  },
  {
   "cell_type": "markdown",
   "id": "fa00636c",
   "metadata": {},
   "source": [
    "### 최적 제어"
   ]
  },
  {
   "cell_type": "markdown",
   "id": "8325df7a",
   "metadata": {},
   "source": [
    "**범함수 F[y(x)]가 있을 때 이 값이 가장 커지도록 혹은 가장 작아지도록 하는 독립함수 y(x)를 찾는 것**"
   ]
  },
  {
   "cell_type": "markdown",
   "id": "3a92be34",
   "metadata": {},
   "source": [
    "최적 조건: δf[y*(x)] / δy = 0"
   ]
  }
 ],
 "metadata": {
  "kernelspec": {
   "display_name": "pytorch",
   "language": "python",
   "name": "pt1.1"
  },
  "language_info": {
   "codemirror_mode": {
    "name": "ipython",
    "version": 3
   },
   "file_extension": ".py",
   "mimetype": "text/x-python",
   "name": "python",
   "nbconvert_exporter": "python",
   "pygments_lexer": "ipython3",
   "version": "3.9.7"
  }
 },
 "nbformat": 4,
 "nbformat_minor": 5
}
