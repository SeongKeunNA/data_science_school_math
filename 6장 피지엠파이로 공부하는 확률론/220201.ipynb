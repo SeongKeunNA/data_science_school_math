{
 "cells": [
  {
   "cell_type": "markdown",
   "id": "1ac1276f",
   "metadata": {},
   "source": [
    "# 6.3. 확률의 성질"
   ]
  },
  {
   "cell_type": "markdown",
   "id": "fecf81b6",
   "metadata": {},
   "source": [
    "### 6.3.1 연습문제"
   ]
  },
  {
   "cell_type": "code",
   "execution_count": 44,
   "id": "26f67e26",
   "metadata": {},
   "outputs": [],
   "source": [
    "ΩA = {1,2,3,4,5,6,7,8,9,10,11,12,13,14,15,16,17,18,19,20}\n",
    "A = {1,3,6,11,12,14,16,17,20}\n",
    "ΩB = {1,2,3,4,5,6,7,8,9,10,11,12,13,14,15,16,17,18,19,20}\n",
    "B = {2,4,7,11,14,15,18,19}\n",
    "ΩC = {1,2,3,4,5,6,7,8,9,10,11,12,13,14,15,16,17,18,19,20}\n",
    "C1 = {9}\n",
    "C2 = {7,8,15}\n",
    "C3 = {2}\n",
    "C4 = {10}\n",
    "C5 = {3,4,16}\n",
    "C6 = {11}\n",
    "C7 = {1,20}\n",
    "C9 = {5,19}\n",
    "C10 = set()\n",
    "C11 = {6,12,17}\n",
    "C12 = {13,18}"
   ]
  },
  {
   "cell_type": "markdown",
   "id": "32a715a5",
   "metadata": {},
   "source": [
    "### 성질1: 공집합의 확률"
   ]
  },
  {
   "cell_type": "markdown",
   "id": "68a7ec7c",
   "metadata": {},
   "source": [
    "#### 공집합인 사건의 확률은 0이다."
   ]
  },
  {
   "cell_type": "markdown",
   "id": "a296dd84",
   "metadata": {},
   "source": [
    "### 성질2: 여집합의 확률"
   ]
  },
  {
   "cell_type": "markdown",
   "id": "4bb3dc5a",
   "metadata": {},
   "source": [
    "#### 어떤 사건의 여집합인 사건의 확률은 (1 - 원래 사건의 확률)이다."
   ]
  },
  {
   "cell_type": "markdown",
   "id": "194618af",
   "metadata": {},
   "source": [
    "확률은 0보다 크거나 같아야 한다는 콜모고로프의 공리 1과 결합하여,"
   ]
  },
  {
   "cell_type": "markdown",
   "id": "f8f7e193",
   "metadata": {},
   "source": [
    "#### 확률값은 0과 1 사잇값을 가져야 한다."
   ]
  },
  {
   "cell_type": "markdown",
   "id": "89400b51",
   "metadata": {},
   "source": [
    "### 성질3: 포함-배제 원리"
   ]
  },
  {
   "cell_type": "markdown",
   "id": "2ea54193",
   "metadata": {},
   "source": [
    "#### 두 사건의 합집합의 확률은 각 사건의 확률의 합에서 두 사건의 교집합의 확률을 뺀 것과 같다."
   ]
  },
  {
   "cell_type": "markdown",
   "id": "cae75dcb",
   "metadata": {},
   "source": [
    "### 성질4: 전체 확률의 법칙"
   ]
  },
  {
   "cell_type": "markdown",
   "id": "823013de",
   "metadata": {},
   "source": [
    "복수의 사건 Ci가 다음을 만족하는 사건들이다."
   ]
  },
  {
   "cell_type": "markdown",
   "id": "2ddf9108",
   "metadata": {},
   "source": [
    "1. 서로 교집합 X\n",
    "2. 모든 집합의 합집합이 전체집합임(완전한 부분집합들)"
   ]
  },
  {
   "cell_type": "markdown",
   "id": "a567ea0f",
   "metadata": {},
   "source": [
    "이 경우, **사건 A의 확률은 사건 A와 사건 Ci가 동시에 발생할 사건들의 확률의 합과 같다.**"
   ]
  },
  {
   "cell_type": "markdown",
   "id": "83c4ff10",
   "metadata": {},
   "source": [
    "P(A) = ∑P(A∩Ci)"
   ]
  },
  {
   "cell_type": "markdown",
   "id": "22312f97",
   "metadata": {},
   "source": [
    "* 교집합의 확률은 쉼표로도 표시 가능: P(A ∩ B) = P(A,B)\n",
    "* P(A) = ∑P(A,Ci)"
   ]
  },
  {
   "cell_type": "markdown",
   "id": "cd72b384",
   "metadata": {},
   "source": [
    "### 연습문제 6.3.2"
   ]
  },
  {
   "cell_type": "code",
   "execution_count": 8,
   "id": "a8706e11",
   "metadata": {},
   "outputs": [
    {
     "data": {
      "text/plain": [
       "(0.55, 0.55)"
      ]
     },
     "execution_count": 8,
     "metadata": {},
     "output_type": "execute_result"
    }
   ],
   "source": [
    "Ac = ΩA - A\n",
    "len(Ac) / 20, 1 - (len(A) / 20)"
   ]
  },
  {
   "cell_type": "code",
   "execution_count": 10,
   "id": "a44badf2",
   "metadata": {},
   "outputs": [
    {
     "data": {
      "text/plain": [
       "(0.75, 0.7500000000000001)"
      ]
     },
     "execution_count": 10,
     "metadata": {},
     "output_type": "execute_result"
    }
   ],
   "source": [
    "len(A | B) / 20, len(A)/20 + len(B)/20 - len(A.intersection(B)) / 20"
   ]
  },
  {
   "cell_type": "code",
   "execution_count": 45,
   "id": "79242d97",
   "metadata": {},
   "outputs": [
    {
     "data": {
      "text/plain": [
       "(0.44999999999999996, 0.45)"
      ]
     },
     "execution_count": 45,
     "metadata": {},
     "output_type": "execute_result"
    }
   ],
   "source": [
    "result = 0\n",
    "for i in (C1,C2,C3,C4,C5,C6,C7,C8,C9,C10,C11,C12):\n",
    "    result += len(A&i) / 20\n",
    "result, len(A) / 20"
   ]
  },
  {
   "cell_type": "markdown",
   "id": "1886e0ae",
   "metadata": {},
   "source": [
    "# 6.4 확률분포함수"
   ]
  },
  {
   "cell_type": "markdown",
   "id": "156ad674",
   "metadata": {},
   "source": [
    "### 확률분포"
   ]
  },
  {
   "cell_type": "markdown",
   "id": "ad192fc7",
   "metadata": {},
   "source": [
    "어떤 사건에 어느 정도의 확률이 할당되었는지 묘사한 정보"
   ]
  },
  {
   "cell_type": "markdown",
   "id": "6bfddf38",
   "metadata": {},
   "source": [
    "#### 확률 분포 함수"
   ]
  },
  {
   "cell_type": "markdown",
   "id": "fe5a964d",
   "metadata": {},
   "source": [
    "1. 확률질량함수\n",
    "2. 누적분포함수\n",
    "3. 확률밀도함수"
   ]
  },
  {
   "cell_type": "markdown",
   "id": "7a0eb1a5",
   "metadata": {},
   "source": [
    "### 단순사건과 확률질량함수"
   ]
  },
  {
   "cell_type": "markdown",
   "id": "66f7aa07",
   "metadata": {},
   "source": [
    "**단순사건**: 표본이 하나인 사건"
   ]
  },
  {
   "cell_type": "markdown",
   "id": "a92bf622",
   "metadata": {},
   "source": [
    "**확률질량함수**(p): 유한 개의 사건이 존재하는 경우 각 단순사건에 대한 확률만 정의하는 함수"
   ]
  },
  {
   "cell_type": "markdown",
   "id": "fe80bf04",
   "metadata": {},
   "source": [
    "* p(a) = P({a})\n",
    "* p(1,2) (X)"
   ]
  },
  {
   "cell_type": "markdown",
   "id": "50e453fe",
   "metadata": {},
   "source": [
    "### 연습문제 6.4.1"
   ]
  },
  {
   "cell_type": "markdown",
   "id": "aaba182f",
   "metadata": {},
   "source": [
    "1. 0.2\n",
    "2. 0.7"
   ]
  },
  {
   "cell_type": "markdown",
   "id": "4c69c9f9",
   "metadata": {},
   "source": [
    "### 표본 수가 무한한 경우"
   ]
  },
  {
   "cell_type": "markdown",
   "id": "27821067",
   "metadata": {},
   "source": [
    "#### 표본 수가 무한하고 모든 표본에 대해 표본 하나만을 가진 사건의 확률이 동일하다면, 표본 하나에 대한 사건의 확률은 언제나 0이다."
   ]
  },
  {
   "cell_type": "markdown",
   "id": "270d2f27",
   "metadata": {},
   "source": [
    "### 연습문제 6.4.2"
   ]
  },
  {
   "cell_type": "markdown",
   "id": "c7f1b79c",
   "metadata": {},
   "source": [
    "P({0<=θ<180}) = 2/3\n",
    "P({180<=θ<360}) = 1/3"
   ]
  },
  {
   "cell_type": "markdown",
   "id": "c918eee0",
   "metadata": {},
   "source": [
    "### 구간"
   ]
  },
  {
   "cell_type": "markdown",
   "id": "91a25947",
   "metadata": {},
   "source": [
    "시작점과 끝점이라는 두 개의 입력변수를 받는다."
   ]
  },
  {
   "cell_type": "markdown",
   "id": "0c193502",
   "metadata": {},
   "source": [
    "P(A) = P({a < x <= b}) = **P(a,b)**"
   ]
  },
  {
   "cell_type": "markdown",
   "id": "353d7622",
   "metadata": {},
   "source": [
    "### 연습문제 6.4.3"
   ]
  },
  {
   "cell_type": "code",
   "execution_count": 49,
   "id": "705efcb2",
   "metadata": {},
   "outputs": [
    {
     "ename": "SyntaxError",
     "evalue": "cannot assign to function call (Temp/ipykernel_15356/1511950446.py, line 1)",
     "output_type": "error",
     "traceback": [
      "\u001b[1;36m  File \u001b[1;32m\"C:\\Users\\NAJONG~1\\AppData\\Local\\Temp/ipykernel_15356/1511950446.py\"\u001b[1;36m, line \u001b[1;32m1\u001b[0m\n\u001b[1;33m    P(a,b) = 2/3 if 0<=θ<180\u001b[0m\n\u001b[1;37m    ^\u001b[0m\n\u001b[1;31mSyntaxError\u001b[0m\u001b[1;31m:\u001b[0m cannot assign to function call\n"
     ]
    }
   ],
   "source": [
    "P(a,b) = 2/3 if 0<=θ<180"
   ]
  },
  {
   "cell_type": "code",
   "execution_count": 62,
   "id": "6526649d",
   "metadata": {},
   "outputs": [],
   "source": [
    "def P(a,b):\n",
    "    if a>b:\n",
    "        raise ValueError('a must be less than b or equal to b')\n",
    "    a = np.maximum(0,a)\n",
    "    b = np.minimum(b, 360)\n",
    "        \n",
    "    if b < 180:\n",
    "        return 2/3 * (b-a) / 180\n",
    "    else:\n",
    "        if a < 180:\n",
    "            return (2 / 3) * ((180 - a) / 180) + (1 / 3) * ((b - 180) / 180)\n",
    "        return (1 / 3) * (((b - a) / 180))"
   ]
  },
  {
   "cell_type": "code",
   "execution_count": 65,
   "id": "4341b225",
   "metadata": {},
   "outputs": [
    {
     "data": {
      "text/plain": [
       "1.0"
      ]
     },
     "execution_count": 65,
     "metadata": {},
     "output_type": "execute_result"
    }
   ],
   "source": [
    "P(-20,380)"
   ]
  },
  {
   "cell_type": "code",
   "execution_count": 67,
   "id": "9514d47a",
   "metadata": {},
   "outputs": [
    {
     "data": {
      "text/plain": [
       "0.8333333333333334"
      ]
     },
     "execution_count": 67,
     "metadata": {},
     "output_type": "execute_result"
    }
   ],
   "source": [
    "P = lambda a, b: (2 * (b - a) if b < 180 else b - 2 * a +    180 if a < 180\n",
    "                  else b-a) / 540\n",
    "\n",
    "P(0,270)"
   ]
  },
  {
   "cell_type": "markdown",
   "id": "1bf4bc3c",
   "metadata": {},
   "source": [
    "### 누적분포함수(cdf,F(x))"
   ]
  },
  {
   "cell_type": "markdown",
   "id": "b5d535e0",
   "metadata": {},
   "source": [
    "F(x) = P(Sx) = P{-∞ < X <= x} = P({X < x})"
   ]
  },
  {
   "cell_type": "markdown",
   "id": "7a2b548b",
   "metadata": {},
   "source": [
    "P(a,b) = F(b) - F(a)"
   ]
  },
  {
   "cell_type": "markdown",
   "id": "7ae32924",
   "metadata": {},
   "source": [
    "* F(-∞) = 0\n",
    "* F(+∞) = 1\n",
    "* x > y -> F(x) >= F(y)"
   ]
  },
  {
   "cell_type": "markdown",
   "id": "98a0c641",
   "metadata": {},
   "source": [
    "### 연습문제 6.4.4"
   ]
  },
  {
   "cell_type": "code",
   "execution_count": 1,
   "id": "93cc048c",
   "metadata": {},
   "outputs": [],
   "source": [
    "def F(x):\n",
    "    if x <0:\n",
    "        return 0\n",
    "    elif x<180:\n",
    "        return x / 270\n",
    "    elif x<360:\n",
    "        return  2 / 3 + x / 540 + 1 / 3\n",
    "    else:\n",
    "        return 1"
   ]
  },
  {
   "cell_type": "markdown",
   "id": "9d6011f5",
   "metadata": {},
   "source": [
    "### 확률 밀도 함수"
   ]
  },
  {
   "cell_type": "markdown",
   "id": "6707c846",
   "metadata": {},
   "source": [
    "#### 누적분포함수를 미분하여 구한 도함수"
   ]
  },
  {
   "cell_type": "markdown",
   "id": "cde65224",
   "metadata": {},
   "source": [
    "p(x) =  dF(x) / d(x)"
   ]
  },
  {
   "cell_type": "markdown",
   "id": "0bae0a75",
   "metadata": {},
   "source": [
    "특정 구간 확률이 다른 구간에 비해 상대적으로 얼마나 높은 가를 나타냄. **그 자체는 확률이 아니다**"
   ]
  },
  {
   "cell_type": "markdown",
   "id": "9bfa7e5e",
   "metadata": {},
   "source": [
    "* 적분함수인 누적분포함수의 기울기가 음수가 될 수 없으므로 확률밀도함수는 0보다 크거나 같다.\n",
    "* -∞부터∞까지 적분하면 표본공간의 확률이 되므로 값은 1이다."
   ]
  },
  {
   "cell_type": "markdown",
   "id": "b069ed50",
   "metadata": {},
   "source": [
    "### 연습문제 6.4.5"
   ]
  },
  {
   "cell_type": "code",
   "execution_count": null,
   "id": "c874d4f0",
   "metadata": {},
   "outputs": [],
   "source": [
    "def P(x):\n",
    "    if x < 0:\n",
    "        return 0\n",
    "    elif x < 180:\n",
    "        return 1 / 270\n",
    "    elif x < 360:\n",
    "        return 1 / 540\n",
    "    else:\n",
    "        return 0"
   ]
  }
 ],
 "metadata": {
  "kernelspec": {
   "display_name": "pytorch",
   "language": "python",
   "name": "pt1.1"
  },
  "language_info": {
   "codemirror_mode": {
    "name": "ipython",
    "version": 3
   },
   "file_extension": ".py",
   "mimetype": "text/x-python",
   "name": "python",
   "nbconvert_exporter": "python",
   "pygments_lexer": "ipython3",
   "version": "3.9.7"
  }
 },
 "nbformat": 4,
 "nbformat_minor": 5
}
