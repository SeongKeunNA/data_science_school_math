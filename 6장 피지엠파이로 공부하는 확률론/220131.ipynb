{
 "cells": [
  {
   "cell_type": "markdown",
   "id": "e88338c3",
   "metadata": {},
   "source": [
    "# 6.1 집합"
   ]
  },
  {
   "cell_type": "markdown",
   "id": "294dc33d",
   "metadata": {},
   "source": [
    "**집합**: 구별가능한 객체의 모임, 여기서 객체는 **원소**"
   ]
  },
  {
   "cell_type": "markdown",
   "id": "6721346c",
   "metadata": {},
   "source": [
    "**set**: 내용 변경 가능한 뮤터블 자료형 집합"
   ]
  },
  {
   "cell_type": "markdown",
   "id": "f08804dd",
   "metadata": {},
   "source": [
    "**frozenset**: 내용 변경 불가능한 임뮤터블 자료형 집합"
   ]
  },
  {
   "cell_type": "markdown",
   "id": "9a3e54b2",
   "metadata": {},
   "source": [
    "* 임뮤터블 자료형만 딕셔너리의 키나 set의 원소가 될 수 있다."
   ]
  },
  {
   "cell_type": "code",
   "execution_count": 1,
   "id": "1f1050c2",
   "metadata": {},
   "outputs": [
    {
     "data": {
      "text/plain": [
       "{1, 2, 3}"
      ]
     },
     "execution_count": 1,
     "metadata": {},
     "output_type": "execute_result"
    }
   ],
   "source": [
    "A = set([1, 2, 3, 3, 2])\n",
    "A"
   ]
  },
  {
   "cell_type": "code",
   "execution_count": 2,
   "id": "216a0aad",
   "metadata": {},
   "outputs": [
    {
     "data": {
      "text/plain": [
       "frozenset({'H', 'T'})"
      ]
     },
     "execution_count": 2,
     "metadata": {},
     "output_type": "execute_result"
    }
   ],
   "source": [
    "B = frozenset(['H', 'T'])\n",
    "B"
   ]
  },
  {
   "cell_type": "code",
   "execution_count": 3,
   "id": "0476c01e",
   "metadata": {},
   "outputs": [
    {
     "data": {
      "text/plain": [
       "{'♠', '♡', '♢', '♣'}"
      ]
     },
     "execution_count": 3,
     "metadata": {},
     "output_type": "execute_result"
    }
   ],
   "source": [
    "C = {'\\u2660', '\\u2661', '\\u2662', '\\u2663'}\n",
    "C"
   ]
  },
  {
   "cell_type": "code",
   "execution_count": 4,
   "id": "b127ada1",
   "metadata": {},
   "outputs": [
    {
     "data": {
      "text/plain": [
       "set"
      ]
     },
     "execution_count": 4,
     "metadata": {},
     "output_type": "execute_result"
    }
   ],
   "source": [
    "type(C)"
   ]
  },
  {
   "cell_type": "markdown",
   "id": "d23c1148",
   "metadata": {},
   "source": [
    "### 집합의 크기(cardinality)"
   ]
  },
  {
   "cell_type": "markdown",
   "id": "07b96be0",
   "metadata": {},
   "source": [
    "len 명령어 사용"
   ]
  },
  {
   "cell_type": "code",
   "execution_count": 5,
   "id": "d21acf40",
   "metadata": {},
   "outputs": [
    {
     "data": {
      "text/plain": [
       "(3, 2, 4)"
      ]
     },
     "execution_count": 5,
     "metadata": {},
     "output_type": "execute_result"
    }
   ],
   "source": [
    "len(A), len(B), len(C)"
   ]
  },
  {
   "cell_type": "markdown",
   "id": "83891e93",
   "metadata": {},
   "source": [
    "* 원소수가 무한한 경우 파이썬의 set나 frozenset 자료형으로 표현 불가능"
   ]
  },
  {
   "cell_type": "markdown",
   "id": "a778a751",
   "metadata": {},
   "source": [
    "### 합집합과 교집합"
   ]
  },
  {
   "cell_type": "markdown",
   "id": "8f5dc71a",
   "metadata": {},
   "source": [
    "**합집합**: 각 집합의 원소를 모두 포함하는 집합"
   ]
  },
  {
   "cell_type": "markdown",
   "id": "9caf7513",
   "metadata": {},
   "source": [
    "**교집합**: 두 사건 모두에 속하는 원소로만 이루어진 집합"
   ]
  },
  {
   "cell_type": "markdown",
   "id": "5fd07b60",
   "metadata": {},
   "source": [
    "**union**, **intersection** 메서드나 **|**, **&** 연산자 사용"
   ]
  },
  {
   "cell_type": "code",
   "execution_count": 6,
   "id": "4b361d12",
   "metadata": {},
   "outputs": [],
   "source": [
    "A1 = set([1, 2, 3, 4])\n",
    "A2 = set([2, 4, 6])\n",
    "A3 = set([1, 2, 3])\n",
    "A4 = set([2, 3, 4, 5, 6])"
   ]
  },
  {
   "cell_type": "code",
   "execution_count": 7,
   "id": "26927dd4",
   "metadata": {},
   "outputs": [
    {
     "data": {
      "text/plain": [
       "{1, 2, 3, 4, 6}"
      ]
     },
     "execution_count": 7,
     "metadata": {},
     "output_type": "execute_result"
    }
   ],
   "source": [
    "A1.union(A2)"
   ]
  },
  {
   "cell_type": "code",
   "execution_count": 8,
   "id": "7b1c3872",
   "metadata": {},
   "outputs": [
    {
     "data": {
      "text/plain": [
       "{1, 2, 3, 4, 6}"
      ]
     },
     "execution_count": 8,
     "metadata": {},
     "output_type": "execute_result"
    }
   ],
   "source": [
    "A2 | A1"
   ]
  },
  {
   "cell_type": "code",
   "execution_count": 9,
   "id": "49cbac5a",
   "metadata": {},
   "outputs": [
    {
     "data": {
      "text/plain": [
       "{2, 3}"
      ]
     },
     "execution_count": 9,
     "metadata": {},
     "output_type": "execute_result"
    }
   ],
   "source": [
    "A3.intersection(A4)"
   ]
  },
  {
   "cell_type": "code",
   "execution_count": 10,
   "id": "c87cbd06",
   "metadata": {},
   "outputs": [
    {
     "data": {
      "text/plain": [
       "{2, 3}"
      ]
     },
     "execution_count": 10,
     "metadata": {},
     "output_type": "execute_result"
    }
   ],
   "source": [
    "A3 & A4"
   ]
  },
  {
   "cell_type": "markdown",
   "id": "53de26f0",
   "metadata": {},
   "source": [
    "### 전체집합, 부분집합, 여집합"
   ]
  },
  {
   "cell_type": "markdown",
   "id": "7794ff5e",
   "metadata": {},
   "source": [
    "**부분집합**: 어떤 집합의 원소 중 일부만을 포함하는 집합"
   ]
  },
  {
   "cell_type": "markdown",
   "id": "e528ab76",
   "metadata": {},
   "source": [
    "**전체집합**: 원래의 집합"
   ]
  },
  {
   "cell_type": "markdown",
   "id": "49d4385f",
   "metadata": {},
   "source": [
    "* 모든 집합은 자기 자신의 부분집합임"
   ]
  },
  {
   "cell_type": "markdown",
   "id": "2c2116a7",
   "metadata": {},
   "source": [
    "**진부분집합**: 원소의 크기가 더 작은 부분집합"
   ]
  },
  {
   "cell_type": "markdown",
   "id": "4b82149a",
   "metadata": {},
   "source": [
    "부분집합은인지 여부 확인은 **issubset()** 메서드 사용"
   ]
  },
  {
   "cell_type": "markdown",
   "id": "090b550f",
   "metadata": {},
   "source": [
    "혹은 (등호 포함) 부등식 연산자 사용"
   ]
  },
  {
   "cell_type": "code",
   "execution_count": 11,
   "id": "47472e25",
   "metadata": {},
   "outputs": [
    {
     "data": {
      "text/plain": [
       "True"
      ]
     },
     "execution_count": 11,
     "metadata": {},
     "output_type": "execute_result"
    }
   ],
   "source": [
    "A3.issubset(A1)"
   ]
  },
  {
   "cell_type": "code",
   "execution_count": 12,
   "id": "70b8d3a6",
   "metadata": {},
   "outputs": [
    {
     "data": {
      "text/plain": [
       "True"
      ]
     },
     "execution_count": 12,
     "metadata": {},
     "output_type": "execute_result"
    }
   ],
   "source": [
    "A3 <= A1"
   ]
  },
  {
   "cell_type": "code",
   "execution_count": 13,
   "id": "ae343df7",
   "metadata": {},
   "outputs": [
    {
     "data": {
      "text/plain": [
       "False"
      ]
     },
     "execution_count": 13,
     "metadata": {},
     "output_type": "execute_result"
    }
   ],
   "source": [
    "A3.issubset(A2)"
   ]
  },
  {
   "cell_type": "code",
   "execution_count": 14,
   "id": "22d7cde5",
   "metadata": {},
   "outputs": [
    {
     "data": {
      "text/plain": [
       "False"
      ]
     },
     "execution_count": 14,
     "metadata": {},
     "output_type": "execute_result"
    }
   ],
   "source": [
    "A3 <= A2"
   ]
  },
  {
   "cell_type": "code",
   "execution_count": 15,
   "id": "991749b4",
   "metadata": {},
   "outputs": [
    {
     "data": {
      "text/plain": [
       "True"
      ]
     },
     "execution_count": 15,
     "metadata": {},
     "output_type": "execute_result"
    }
   ],
   "source": [
    "A3 <= A3"
   ]
  },
  {
   "cell_type": "code",
   "execution_count": 16,
   "id": "e59b2e38",
   "metadata": {},
   "outputs": [
    {
     "data": {
      "text/plain": [
       "False"
      ]
     },
     "execution_count": 16,
     "metadata": {},
     "output_type": "execute_result"
    }
   ],
   "source": [
    "A3 < A3"
   ]
  },
  {
   "cell_type": "markdown",
   "id": "cce55197",
   "metadata": {},
   "source": [
    "### 차집합과 여집합"
   ]
  },
  {
   "cell_type": "markdown",
   "id": "849384d8",
   "metadata": {},
   "source": [
    "**차집합**: 어떤 집합 A에 속하면서 다른 집합 B에는 속하지 않는 원소로 이루어진 A의 부분집합"
   ]
  },
  {
   "cell_type": "markdown",
   "id": "e40a8553",
   "metadata": {},
   "source": [
    "**여집합**: 전체집합 중에서 부분집합 A에 속하지 않은 원소로만 이루어진 부분집합"
   ]
  },
  {
   "cell_type": "markdown",
   "id": "27292a9a",
   "metadata": {},
   "source": [
    "파이썬에서 **difference** 메서드 혹은 **-** 연산자로 차집합을 구함."
   ]
  },
  {
   "cell_type": "code",
   "execution_count": 18,
   "id": "32a8bd9f",
   "metadata": {},
   "outputs": [
    {
     "data": {
      "text/plain": [
       "{1, 3}"
      ]
     },
     "execution_count": 18,
     "metadata": {},
     "output_type": "execute_result"
    }
   ],
   "source": [
    "A1.difference(A2)"
   ]
  },
  {
   "cell_type": "code",
   "execution_count": 19,
   "id": "868cc9cf",
   "metadata": {},
   "outputs": [
    {
     "data": {
      "text/plain": [
       "{1, 3}"
      ]
     },
     "execution_count": 19,
     "metadata": {},
     "output_type": "execute_result"
    }
   ],
   "source": [
    "A1 - A2"
   ]
  },
  {
   "cell_type": "markdown",
   "id": "ed6daade",
   "metadata": {},
   "source": [
    "### 공집합"
   ]
  },
  {
   "cell_type": "markdown",
   "id": "eebbc0d2",
   "metadata": {},
   "source": [
    "아무런 원소도 포함하지 않는 집합"
   ]
  },
  {
   "cell_type": "markdown",
   "id": "db196ccf",
   "metadata": {},
   "source": [
    "* 공집합은 모든 집합의 부분집합임"
   ]
  },
  {
   "cell_type": "markdown",
   "id": "c2fdb2d3",
   "metadata": {},
   "source": [
    "임의의 집합 A에 대해서,"
   ]
  },
  {
   "cell_type": "markdown",
   "id": "29afe055",
   "metadata": {},
   "source": [
    "A와 공집합의 교집합은 공집합이고, A와 공집합의 합집합은 A이다."
   ]
  },
  {
   "cell_type": "markdown",
   "id": "7b55c332",
   "metadata": {},
   "source": [
    "또한 여집합과 원래의 집합의 교집합은 공집합이다."
   ]
  },
  {
   "cell_type": "code",
   "execution_count": 21,
   "id": "7e0137a2",
   "metadata": {},
   "outputs": [
    {
     "data": {
      "text/plain": [
       "set()"
      ]
     },
     "execution_count": 21,
     "metadata": {},
     "output_type": "execute_result"
    }
   ],
   "source": [
    "empty_set = set([])\n",
    "empty_set"
   ]
  },
  {
   "cell_type": "code",
   "execution_count": 22,
   "id": "94e0f5a4",
   "metadata": {},
   "outputs": [
    {
     "data": {
      "text/plain": [
       "True"
      ]
     },
     "execution_count": 22,
     "metadata": {},
     "output_type": "execute_result"
    }
   ],
   "source": [
    "empty_set < A1"
   ]
  },
  {
   "cell_type": "code",
   "execution_count": 23,
   "id": "6f081a30",
   "metadata": {},
   "outputs": [
    {
     "data": {
      "text/plain": [
       "set()"
      ]
     },
     "execution_count": 23,
     "metadata": {},
     "output_type": "execute_result"
    }
   ],
   "source": [
    "empty_set.intersection(A1)"
   ]
  },
  {
   "cell_type": "code",
   "execution_count": 24,
   "id": "34b32482",
   "metadata": {},
   "outputs": [
    {
     "data": {
      "text/plain": [
       "{1, 2, 3, 4}"
      ]
     },
     "execution_count": 24,
     "metadata": {},
     "output_type": "execute_result"
    }
   ],
   "source": [
    "empty_set.union(A1)"
   ]
  },
  {
   "cell_type": "markdown",
   "id": "c051db24",
   "metadata": {},
   "source": [
    "### 부분집합의 수"
   ]
  },
  {
   "cell_type": "markdown",
   "id": "45b40650",
   "metadata": {},
   "source": [
    "원소 수가 N인 집합은 2^N 개의 부분집합을 가짐"
   ]
  },
  {
   "cell_type": "markdown",
   "id": "2c21d41f",
   "metadata": {},
   "source": [
    "### 연습문제 6.1.1"
   ]
  },
  {
   "cell_type": "markdown",
   "id": "8b4fd64c",
   "metadata": {},
   "source": [
    "1. 16"
   ]
  },
  {
   "cell_type": "code",
   "execution_count": 40,
   "id": "0dbc53b2",
   "metadata": {},
   "outputs": [
    {
     "data": {
      "text/plain": [
       "{frozenset(),\n",
       " frozenset({'HT'}),\n",
       " frozenset({'HT', 'TT'}),\n",
       " frozenset({'HH', 'HT'}),\n",
       " frozenset({'HT', 'TH'}),\n",
       " frozenset({'TH', 'TT'}),\n",
       " frozenset({'HH'}),\n",
       " frozenset({'HH', 'TT'}),\n",
       " frozenset({'HH', 'HT', 'TH'}),\n",
       " frozenset({'TT'}),\n",
       " frozenset({'HT', 'TH', 'TT'}),\n",
       " frozenset({'HH', 'HT', 'TT'}),\n",
       " frozenset({'TH'}),\n",
       " frozenset({'HH', 'TH'}),\n",
       " frozenset({'HH', 'TH', 'TT'}),\n",
       " frozenset({'HH', 'HT', 'TH', 'TT'})}"
      ]
     },
     "execution_count": 40,
     "metadata": {},
     "output_type": "execute_result"
    }
   ],
   "source": [
    "from itertools import combinations, chain\n",
    "    \n",
    "a = {'HH','HT','TH','TT'}\n",
    "set([frozenset(s)\n",
    "    for s in chain.from_iterable(combinations(a, i)\n",
    "                                for i in range(5))])"
   ]
  },
  {
   "cell_type": "markdown",
   "id": "8d53aef2",
   "metadata": {},
   "source": [
    "### 합집합과 교집합의 분배 법칙"
   ]
  },
  {
   "cell_type": "markdown",
   "id": "2c83f847",
   "metadata": {},
   "source": [
    "A ∪ (B ∩ C) = (A ∪ B) ∩ (A ∪ C)"
   ]
  },
  {
   "cell_type": "markdown",
   "id": "d340175e",
   "metadata": {},
   "source": [
    "A ∩ (B ∪ C) = (A ∩ B) ∪ (A ∩ C)"
   ]
  },
  {
   "cell_type": "markdown",
   "id": "f1a775b9",
   "metadata": {},
   "source": [
    "### 연습문제 6.1.2"
   ]
  },
  {
   "cell_type": "code",
   "execution_count": 41,
   "id": "8626962a",
   "metadata": {},
   "outputs": [],
   "source": [
    "A = {1, 3, 5}\n",
    "B = {1, 2, 3}\n",
    "C = {2, 4, 6}"
   ]
  },
  {
   "cell_type": "code",
   "execution_count": 43,
   "id": "437bbdc3",
   "metadata": {},
   "outputs": [
    {
     "data": {
      "text/plain": [
       "({1, 2, 3, 5}, {1, 2, 3, 5})"
      ]
     },
     "execution_count": 43,
     "metadata": {},
     "output_type": "execute_result"
    }
   ],
   "source": [
    "A | (B & C), (A | B) & (A | C)"
   ]
  },
  {
   "cell_type": "code",
   "execution_count": 46,
   "id": "028f574c",
   "metadata": {},
   "outputs": [
    {
     "data": {
      "text/plain": [
       "({1, 3}, {1, 3})"
      ]
     },
     "execution_count": 46,
     "metadata": {},
     "output_type": "execute_result"
    }
   ],
   "source": [
    "A & (B | C) , (A & B) | (A & C)"
   ]
  },
  {
   "cell_type": "markdown",
   "id": "47d3a6eb",
   "metadata": {},
   "source": [
    "### 6.2 확률의 수학적 정의와 의미"
   ]
  },
  {
   "cell_type": "markdown",
   "id": "08ca9a7b",
   "metadata": {},
   "source": [
    "### 표본공간과 확률분포"
   ]
  },
  {
   "cell_type": "markdown",
   "id": "b7e3472b",
   "metadata": {},
   "source": [
    "**확률표본**, **표본**: 풀고자 하는 확률적 문제에서 **발생할 수 있는 하나의 현상**, 혹은 **선택될 수 있는 하나의 경우**"
   ]
  },
  {
   "cell_type": "markdown",
   "id": "3e7d32d3",
   "metadata": {},
   "source": [
    "**표본공간Ω**: **가능한 모든 표본의 집합**"
   ]
  },
  {
   "cell_type": "markdown",
   "id": "a741e3d9",
   "metadata": {},
   "source": [
    "표본공간을 정의하는 것: 우리가 고려하는 범위에서 **어떤 표본(경우, 현상)이 가능하고 어떤 표본이 가능하지 않은가를 정의하는 작업**"
   ]
  },
  {
   "cell_type": "markdown",
   "id": "1e24895e",
   "metadata": {},
   "source": [
    "### 연습문제 6.2.1"
   ]
  },
  {
   "cell_type": "markdown",
   "id": "b3833d4b",
   "metadata": {},
   "source": [
    "1. Ω3 = {HH, HT, TH, TT}\n",
    "2. Ω4 = {T, F}"
   ]
  },
  {
   "cell_type": "markdown",
   "id": "20de41cb",
   "metadata": {},
   "source": [
    "### 연습문제 6.2.2"
   ]
  },
  {
   "cell_type": "markdown",
   "id": "d9f8674f",
   "metadata": {},
   "source": [
    "1. Ω7 = {0<= θ < 360}\n",
    "2. 무한하다 ,Ω8 = IR"
   ]
  },
  {
   "cell_type": "markdown",
   "id": "5757d53e",
   "metadata": {},
   "source": [
    "### 연습문제 6.2.3"
   ]
  },
  {
   "cell_type": "markdown",
   "id": "6e1f88aa",
   "metadata": {},
   "source": [
    "1. 로또 당첨 여부, {T,F}\n",
    "2. 기부 참여 경험, {T,F}\n",
    "3. 어제 마신 물의 양, IR\n",
    "4. 어제 냉장고 문이 열어져 있던 시간, IR"
   ]
  },
  {
   "cell_type": "markdown",
   "id": "3c0f5535",
   "metadata": {},
   "source": [
    "### 사건"
   ]
  },
  {
   "cell_type": "markdown",
   "id": "5fe88afa",
   "metadata": {},
   "source": [
    "**표본공간 Ω의 부분집합**, 우리가 관심을 가지는 일부 표본의 집합"
   ]
  },
  {
   "cell_type": "code",
   "execution_count": 47,
   "id": "148f718e",
   "metadata": {},
   "outputs": [
    {
     "data": {
      "text/plain": [
       "{frozenset(), frozenset({'T'}), frozenset({'H'}), frozenset({'H', 'T'})}"
      ]
     },
     "execution_count": 47,
     "metadata": {},
     "output_type": "execute_result"
    }
   ],
   "source": [
    "A = frozenset([])\n",
    "B = frozenset(['H'])\n",
    "C = frozenset(['T'])\n",
    "D = frozenset(['H', 'T'])\n",
    "set([A, B, C, D])"
   ]
  },
  {
   "cell_type": "markdown",
   "id": "0737e332",
   "metadata": {},
   "source": [
    "### 연습문제 6.2.4"
   ]
  },
  {
   "cell_type": "code",
   "execution_count": 49,
   "id": "c5f8757a",
   "metadata": {},
   "outputs": [
    {
     "data": {
      "text/plain": [
       "{frozenset(),\n",
       " frozenset({'♡', '♣'}),\n",
       " frozenset({'♢'}),\n",
       " frozenset({'♣'}),\n",
       " frozenset({'♠'}),\n",
       " frozenset({'♠', '♢', '♣'}),\n",
       " frozenset({'♠', '♡'}),\n",
       " frozenset({'♢', '♣'}),\n",
       " frozenset({'♡', '♢'}),\n",
       " frozenset({'♡', '♢', '♣'}),\n",
       " frozenset({'♠', '♡', '♣'}),\n",
       " frozenset({'♠', '♢'}),\n",
       " frozenset({'♡'}),\n",
       " frozenset({'♠', '♡', '♢'}),\n",
       " frozenset({'♠', '♣'}),\n",
       " frozenset({'♠', '♡', '♢', '♣'})}"
      ]
     },
     "execution_count": 49,
     "metadata": {},
     "output_type": "execute_result"
    }
   ],
   "source": [
    "#1\n",
    "from itertools import combinations, chain\n",
    "    \n",
    "Ω2 = {'♠','♡','♢','♣'}\n",
    "set([frozenset(s)\n",
    "    for s in chain.from_iterable(combinations(Ω2, i)\n",
    "                                for i in range(5))])"
   ]
  },
  {
   "cell_type": "code",
   "execution_count": 50,
   "id": "639b67ff",
   "metadata": {},
   "outputs": [
    {
     "data": {
      "text/plain": [
       "{frozenset(),\n",
       " frozenset({'HT'}),\n",
       " frozenset({'HT', 'TT'}),\n",
       " frozenset({'HH', 'HT'}),\n",
       " frozenset({'HT', 'TH'}),\n",
       " frozenset({'TH', 'TT'}),\n",
       " frozenset({'HH'}),\n",
       " frozenset({'HH', 'TT'}),\n",
       " frozenset({'HH', 'HT', 'TH'}),\n",
       " frozenset({'TT'}),\n",
       " frozenset({'HT', 'TH', 'TT'}),\n",
       " frozenset({'HH', 'HT', 'TT'}),\n",
       " frozenset({'TH'}),\n",
       " frozenset({'HH', 'TH'}),\n",
       " frozenset({'HH', 'TH', 'TT'}),\n",
       " frozenset({'HH', 'HT', 'TH', 'TT'})}"
      ]
     },
     "execution_count": 50,
     "metadata": {},
     "output_type": "execute_result"
    }
   ],
   "source": [
    "from itertools import combinations, chain\n",
    "    \n",
    "Ω3 = {'HH','HT','TH','TT'}\n",
    "set([frozenset(s)\n",
    "    for s in chain.from_iterable(combinations(Ω3, i)\n",
    "                                for i in range(5))])"
   ]
  },
  {
   "cell_type": "markdown",
   "id": "874762a9",
   "metadata": {},
   "source": [
    "### 확률(P)"
   ]
  },
  {
   "cell_type": "markdown",
   "id": "97ba17fe",
   "metadata": {},
   "source": [
    "**사건(부분집합)을 입력하면 숫자(확률값)가 출력되는 함수**"
   ]
  },
  {
   "cell_type": "markdown",
   "id": "84a019ac",
   "metadata": {},
   "source": [
    "이 때 이 함수의 정의역은 표본공간의 모든 사건(부분집합)의 집합"
   ]
  },
  {
   "cell_type": "markdown",
   "id": "1af81d6d",
   "metadata": {},
   "source": [
    "즉, **모든 각각의 사건(부분집합)에 어떤 숫자를 할당하는 함수** "
   ]
  },
  {
   "cell_type": "markdown",
   "id": "8149d0f6",
   "metadata": {},
   "source": [
    "P(A): A라는 사건(부분집합)에 할당된 숫자"
   ]
  },
  {
   "cell_type": "markdown",
   "id": "5e8a1e67",
   "metadata": {},
   "source": [
    "#### 함수의 조건(콜모고로프의 공리)"
   ]
  },
  {
   "cell_type": "markdown",
   "id": "12a1fc0d",
   "metadata": {},
   "source": [
    "1. 모든 사건에 대해 확률은 실수이고 0 또는 양수다.\n",
    "2. 표본공간(전체집합)이라는 사건(부분집합)에 대한 확률은 1이다.\n",
    "3. 공통 원소가 없는 두 사건의 합집합의 확률은 사건별 확률의 합이다."
   ]
  },
  {
   "cell_type": "markdown",
   "id": "ed025a32",
   "metadata": {},
   "source": [
    "#### 확률은 표본이 아닌 사건을 입력으로 가지는 함수"
   ]
  },
  {
   "cell_type": "markdown",
   "id": "0e268311",
   "metadata": {},
   "source": [
    "ex) P({1}) = 1 / 6"
   ]
  },
  {
   "cell_type": "markdown",
   "id": "d4d46792",
   "metadata": {},
   "source": [
    "### 파이썬을 이용한 확률의 구현"
   ]
  },
  {
   "cell_type": "markdown",
   "id": "58301b09",
   "metadata": {},
   "source": [
    "사건을 키로 가지고 확률을 값으로 가지는 딕셔너리를 사용"
   ]
  },
  {
   "cell_type": "code",
   "execution_count": 52,
   "id": "3bf22fa2",
   "metadata": {},
   "outputs": [
    {
     "data": {
      "text/plain": [
       "{frozenset(): 0,\n",
       " frozenset({'H'}): 0.4,\n",
       " frozenset({'T'}): 0.6,\n",
       " frozenset({'H', 'T'}): 1}"
      ]
     },
     "execution_count": 52,
     "metadata": {},
     "output_type": "execute_result"
    }
   ],
   "source": [
    "P = {A: 0, B: 0.4, C: 0.6, D: 1}\n",
    "P"
   ]
  },
  {
   "cell_type": "markdown",
   "id": "28b137d3",
   "metadata": {},
   "source": [
    "### 연습문제 6.2.5"
   ]
  },
  {
   "cell_type": "code",
   "execution_count": 57,
   "id": "cbad375c",
   "metadata": {},
   "outputs": [
    {
     "data": {
      "text/plain": [
       "{frozenset(),\n",
       " frozenset({'♡', '♣'}),\n",
       " frozenset({'♢'}),\n",
       " frozenset({'♣'}),\n",
       " frozenset({'♠'}),\n",
       " frozenset({'♠', '♢', '♣'}),\n",
       " frozenset({'♠', '♡'}),\n",
       " frozenset({'♢', '♣'}),\n",
       " frozenset({'♡', '♢'}),\n",
       " frozenset({'♡', '♢', '♣'}),\n",
       " frozenset({'♠', '♡', '♣'}),\n",
       " frozenset({'♠', '♢'}),\n",
       " frozenset({'♡'}),\n",
       " frozenset({'♠', '♡', '♢'}),\n",
       " frozenset({'♠', '♣'}),\n",
       " frozenset({'♠', '♡', '♢', '♣'})}"
      ]
     },
     "execution_count": 57,
     "metadata": {},
     "output_type": "execute_result"
    }
   ],
   "source": [
    "#1\n",
    "Ω2 = {'♠','♡','♢','♣'}\n",
    "set([frozenset(s)\n",
    "    for s in chain.from_iterable(combinations(Ω2, i)\n",
    "                                for i in range(5))])"
   ]
  },
  {
   "cell_type": "code",
   "execution_count": 59,
   "id": "066b3ed8",
   "metadata": {
    "collapsed": true
   },
   "outputs": [
    {
     "ename": "NameError",
     "evalue": "name 'A5' is not defined",
     "output_type": "error",
     "traceback": [
      "\u001b[1;31m---------------------------------------------------------------------------\u001b[0m",
      "\u001b[1;31mNameError\u001b[0m                                 Traceback (most recent call last)",
      "\u001b[1;32mC:\\Users\\NAJONG~1\\AppData\\Local\\Temp/ipykernel_26016/1237692090.py\u001b[0m in \u001b[0;36m<module>\u001b[1;34m\u001b[0m\n\u001b[0;32m      1\u001b[0m P1 = {\n\u001b[1;32m----> 2\u001b[1;33m     \u001b[0mA1\u001b[0m\u001b[1;33m:\u001b[0m \u001b[1;36m0\u001b[0m\u001b[1;33m,\u001b[0m \u001b[0mA2\u001b[0m\u001b[1;33m:\u001b[0m \u001b[1;36m0.25\u001b[0m\u001b[1;33m,\u001b[0m \u001b[0mA3\u001b[0m\u001b[1;33m:\u001b[0m \u001b[1;36m0.25\u001b[0m\u001b[1;33m,\u001b[0m \u001b[0mA4\u001b[0m\u001b[1;33m:\u001b[0m \u001b[1;36m0.25\u001b[0m\u001b[1;33m,\u001b[0m \u001b[0mA5\u001b[0m\u001b[1;33m:\u001b[0m \u001b[1;36m0.25\u001b[0m\u001b[1;33m,\u001b[0m \u001b[0mA6\u001b[0m\u001b[1;33m:\u001b[0m\u001b[1;36m0.5\u001b[0m\u001b[1;33m,\u001b[0m \u001b[0mA7\u001b[0m\u001b[1;33m:\u001b[0m\u001b[1;36m0.5\u001b[0m\u001b[1;33m,\u001b[0m \u001b[0mA8\u001b[0m\u001b[1;33m:\u001b[0m \u001b[1;36m0.5\u001b[0m\u001b[1;33m,\u001b[0m \u001b[0mA9\u001b[0m\u001b[1;33m:\u001b[0m \u001b[1;36m0.5\u001b[0m\u001b[1;33m,\u001b[0m \u001b[0mA10\u001b[0m\u001b[1;33m:\u001b[0m \u001b[1;36m0.5\u001b[0m\u001b[1;33m,\u001b[0m \u001b[0mA11\u001b[0m\u001b[1;33m:\u001b[0m\u001b[1;36m0.5\u001b[0m\u001b[1;33m,\u001b[0m \u001b[0mA12\u001b[0m\u001b[1;33m:\u001b[0m\u001b[1;36m0.75\u001b[0m\u001b[1;33m,\u001b[0m \u001b[0mA13\u001b[0m\u001b[1;33m:\u001b[0m\u001b[1;36m0.75\u001b[0m\u001b[1;33m,\u001b[0m \u001b[0mA14\u001b[0m\u001b[1;33m:\u001b[0m \u001b[1;36m0.75\u001b[0m\u001b[1;33m,\u001b[0m\u001b[1;33m\u001b[0m\u001b[1;33m\u001b[0m\u001b[0m\n\u001b[0m\u001b[0;32m      3\u001b[0m     \u001b[0mA15\u001b[0m\u001b[1;33m:\u001b[0m \u001b[1;36m0.75\u001b[0m\u001b[1;33m,\u001b[0m \u001b[0mA16\u001b[0m\u001b[1;33m:\u001b[0m\u001b[1;36m1\u001b[0m\u001b[1;33m\u001b[0m\u001b[1;33m\u001b[0m\u001b[0m\n\u001b[0;32m      4\u001b[0m }\n",
      "\u001b[1;31mNameError\u001b[0m: name 'A5' is not defined"
     ]
    }
   ],
   "source": [
    "P1 = {\n",
    "    A1: 0, A2: 0.25, A3: 0.25, A4: 0.25, A5: 0.25, A6:0.5, A7:0.5, A8: 0.5, A9: 0.5, A10: 0.5, A11:0.5, A12:0.75, A13:0.75, A14: 0.75,\n",
    "    A15: 0.75, A16:1\n",
    "}"
   ]
  },
  {
   "cell_type": "code",
   "execution_count": 58,
   "id": "dd07a534",
   "metadata": {},
   "outputs": [
    {
     "data": {
      "text/plain": [
       "{frozenset(),\n",
       " frozenset({'HT'}),\n",
       " frozenset({'HT', 'TT'}),\n",
       " frozenset({'HH', 'HT'}),\n",
       " frozenset({'HT', 'TH'}),\n",
       " frozenset({'TH', 'TT'}),\n",
       " frozenset({'HH'}),\n",
       " frozenset({'HH', 'TT'}),\n",
       " frozenset({'HH', 'HT', 'TH'}),\n",
       " frozenset({'TT'}),\n",
       " frozenset({'HT', 'TH', 'TT'}),\n",
       " frozenset({'HH', 'HT', 'TT'}),\n",
       " frozenset({'TH'}),\n",
       " frozenset({'HH', 'TH'}),\n",
       " frozenset({'HH', 'TH', 'TT'}),\n",
       " frozenset({'HH', 'HT', 'TH', 'TT'})}"
      ]
     },
     "execution_count": 58,
     "metadata": {},
     "output_type": "execute_result"
    }
   ],
   "source": [
    "#2\n",
    "Ω3 = {'HH','HT','TH','TT'}\n",
    "set([frozenset(s)\n",
    "    for s in chain.from_iterable(combinations(Ω3, i)\n",
    "                                for i in range(5))])"
   ]
  },
  {
   "cell_type": "code",
   "execution_count": null,
   "id": "deac1960",
   "metadata": {},
   "outputs": [],
   "source": [
    "P2 = {\n",
    "    A1: 0, A2: 0.25, A3: 0.25, A4: 0.25, A5: 0.25, A6:0.5, A7:0.5, A8: 0.5, A9: 0.5, A10: 0.5, A11:0.5, A12:0.75, A13:0.75, A14: 0.75,\n",
    "    A15: 0.75, A16:1\n",
    "}"
   ]
  },
  {
   "cell_type": "markdown",
   "id": "008ff1db",
   "metadata": {},
   "source": [
    "### 주사위 한 면의 확률은 무조건 1 / 6?"
   ]
  },
  {
   "cell_type": "markdown",
   "id": "0baaa54c",
   "metadata": {},
   "source": [
    "### 연습문제 6.2.6"
   ]
  },
  {
   "cell_type": "code",
   "execution_count": 62,
   "id": "7dbbfe86",
   "metadata": {},
   "outputs": [
    {
     "data": {
      "text/plain": [
       "{frozenset({1, 3, 5}): 0.76,\n",
       " frozenset({1, 4}): 0.63,\n",
       " frozenset({4, 6}): 0.13,\n",
       " frozenset({2, 3}): 0.22999999999999998,\n",
       " frozenset({2, 3, 4}): 0.36,\n",
       " frozenset({1, 4, 5, 6}): 0.77,\n",
       " frozenset({2, 6}): 0.11,\n",
       " frozenset({4, 5}): 0.27,\n",
       " frozenset({2, 3, 5, 6}): 0.37,\n",
       " frozenset({1, 2, 3, 6}): 0.73,\n",
       " frozenset({1}): 0.5,\n",
       " frozenset({2, 4, 5, 6}): 0.38,\n",
       " frozenset({4, 5, 6}): 0.27,\n",
       " frozenset({1, 3, 4, 6}): 0.75,\n",
       " frozenset({2, 3, 4, 6}): 0.36,\n",
       " frozenset({1, 4, 6}): 0.63,\n",
       " frozenset({3, 4}): 0.25,\n",
       " frozenset({2, 4, 6}): 0.24,\n",
       " frozenset({3, 4, 5, 6}): 0.39,\n",
       " frozenset({2, 4}): 0.24,\n",
       " frozenset({5, 6}): 0.14,\n",
       " frozenset({2, 3, 5}): 0.37,\n",
       " frozenset({3, 4, 6}): 0.25,\n",
       " frozenset({3, 5}): 0.26,\n",
       " frozenset({2, 5, 6}): 0.25,\n",
       " frozenset({3, 4, 5}): 0.39,\n",
       " frozenset({1, 6}): 0.5,\n",
       " frozenset({1, 2, 3}): 0.73,\n",
       " frozenset({1, 2, 4, 6}): 0.74,\n",
       " frozenset({1, 3}): 0.62,\n",
       " frozenset({1, 2, 6}): 0.61,\n",
       " frozenset({1, 3, 4}): 0.75,\n",
       " frozenset({1, 2, 4, 5}): 0.88,\n",
       " frozenset({1, 3, 5, 6}): 0.76,\n",
       " frozenset({3, 6}): 0.12,\n",
       " frozenset({2, 3, 6}): 0.22999999999999998,\n",
       " frozenset({2, 3, 4, 5}): 0.5,\n",
       " frozenset({1, 2, 5}): 0.75,\n",
       " frozenset({1, 5}): 0.64,\n",
       " frozenset({1, 4, 5}): 0.77,\n",
       " frozenset({1, 2, 3, 4}): 0.86,\n",
       " frozenset({5}): 0.14,\n",
       " frozenset({4}): 0.13,\n",
       " frozenset({2}): 0.11,\n",
       " frozenset({1, 2, 4}): 0.74,\n",
       " frozenset({1, 2}): 0.61,\n",
       " frozenset({1, 3, 6}): 0.62,\n",
       " frozenset({1, 2, 5, 6}): 0.75,\n",
       " frozenset({1, 2, 3, 5}): 0.87,\n",
       " frozenset({1, 3, 4, 5}): 0.89,\n",
       " frozenset({2, 4, 5}): 0.38,\n",
       " frozenset({2, 5}): 0.25,\n",
       " frozenset({3, 5, 6}): 0.26,\n",
       " frozenset({3}): 0.12,\n",
       " frozenset({6}): 0.0,\n",
       " frozenset(): 0.0,\n",
       " frozenset({1, 5, 6}): 0.64}"
      ]
     },
     "execution_count": 62,
     "metadata": {},
     "output_type": "execute_result"
    }
   ],
   "source": [
    "Ω3 = {1, 2, 3, 4, 5, 6}\n",
    "SS3 = set([frozenset(s)\n",
    "    for s in chain.from_iterable(combinations(Ω3, i)\n",
    "                                for i in range(5))])\n",
    "P3 = {}\n",
    "\n",
    "for i in SS3:\n",
    "    probability = 0.0\n",
    "    if 1 in i:\n",
    "        probability += 0.5\n",
    "    if 2 in i:\n",
    "        probability += 0.11\n",
    "    if 3 in i:\n",
    "        probability += 0.12\n",
    "    if 4 in i:\n",
    "        probability += 0.13\n",
    "    if 5 in i:\n",
    "        probability += 0.14\n",
    "    P3[i] = probability\n",
    "P3"
   ]
  },
  {
   "cell_type": "markdown",
   "id": "c1d80b3b",
   "metadata": {},
   "source": [
    "일반적인 경우, P(A) = card(A) / card(Ω)"
   ]
  },
  {
   "cell_type": "markdown",
   "id": "730ec4a5",
   "metadata": {},
   "source": [
    "### 연습문제 6.2.7"
   ]
  },
  {
   "cell_type": "markdown",
   "id": "723f4a1f",
   "metadata": {},
   "source": [
    "1.<br>\n",
    "F: 30 / 31 \n",
    "T: 1 / 31"
   ]
  },
  {
   "cell_type": "markdown",
   "id": "6cfe3336",
   "metadata": {},
   "source": [
    "2.<br>\n",
    "A: 1/2, O:1/2"
   ]
  },
  {
   "cell_type": "markdown",
   "id": "0c7f1f58",
   "metadata": {},
   "source": [
    "3.<br>\n",
    "A: 7/10, O: 3/10"
   ]
  },
  {
   "cell_type": "markdown",
   "id": "6f48980c",
   "metadata": {},
   "source": [
    "### 확률의 의미"
   ]
  },
  {
   "cell_type": "markdown",
   "id": "7b00c473",
   "metadata": {},
   "source": [
    "#### 빈도주의 관점"
   ]
  },
  {
   "cell_type": "markdown",
   "id": "68c00361",
   "metadata": {},
   "source": [
    "**반복적으로 선택된 표본이 사건(부분집합) A의 원소가 될 경향**"
   ]
  },
  {
   "cell_type": "markdown",
   "id": "48147b00",
   "metadata": {},
   "source": [
    "#### 베이지안 관점"
   ]
  },
  {
   "cell_type": "markdown",
   "id": "f42b481b",
   "metadata": {},
   "source": [
    "**선택된 표본이 특정한 사건(부분 집합)에 속한다는 가설, 명제 혹은 주장의 신뢰도**"
   ]
  },
  {
   "cell_type": "markdown",
   "id": "5e2e5751",
   "metadata": {},
   "source": [
    "**사건이 일어났다, 발생했다.**: **그 사건(부분집합)의 원소 중에 정말로 선택된 표본이 있다는 사실을 알게 되었다.**"
   ]
  },
  {
   "cell_type": "markdown",
   "id": "5f78b0db",
   "metadata": {},
   "source": [
    "(**추가적인 정보**가 들어왔다.)"
   ]
  }
 ],
 "metadata": {
  "kernelspec": {
   "display_name": "pytorch",
   "language": "python",
   "name": "pt1.1"
  },
  "language_info": {
   "codemirror_mode": {
    "name": "ipython",
    "version": 3
   },
   "file_extension": ".py",
   "mimetype": "text/x-python",
   "name": "python",
   "nbconvert_exporter": "python",
   "pygments_lexer": "ipython3",
   "version": "3.9.7"
  }
 },
 "nbformat": 4,
 "nbformat_minor": 5
}
