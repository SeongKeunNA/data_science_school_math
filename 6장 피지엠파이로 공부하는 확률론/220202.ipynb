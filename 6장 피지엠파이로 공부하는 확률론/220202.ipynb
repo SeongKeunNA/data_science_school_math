{
 "cells": [
  {
   "cell_type": "markdown",
   "id": "2ef5f73f",
   "metadata": {},
   "source": [
    "# 6.5 결합확률과 조건부확률"
   ]
  },
  {
   "cell_type": "markdown",
   "id": "4890d5d4",
   "metadata": {},
   "source": [
    "### 범인 찾기 문제"
   ]
  },
  {
   "cell_type": "markdown",
   "id": "82dbc0ae",
   "metadata": {},
   "source": [
    "살인 사건 발생, 용의자는 20명\n",
    "* 남자 12명, 여자 8명\n",
    "* 머리 긴 사람10명, 머리 짧은 사람 10명"
   ]
  },
  {
   "cell_type": "markdown",
   "id": "0e616f9a",
   "metadata": {},
   "source": [
    "범인이 남자일 확률 P(A) = 0.6"
   ]
  },
  {
   "cell_type": "markdown",
   "id": "ec11e14d",
   "metadata": {},
   "source": [
    "범인이 머리 길 확률 P(B) = 0.5"
   ]
  },
  {
   "cell_type": "markdown",
   "id": "0e987833",
   "metadata": {},
   "source": [
    "### 결합확률과 조건부확률"
   ]
  },
  {
   "cell_type": "markdown",
   "id": "31006842",
   "metadata": {},
   "source": [
    "#### 결합확률: 사건 A와 B가 동시에 발생할 확률"
   ]
  },
  {
   "cell_type": "markdown",
   "id": "98e73dae",
   "metadata": {},
   "source": [
    "* **P(A∩B) or P(A,B)**"
   ]
  },
  {
   "cell_type": "markdown",
   "id": "7ee4e376",
   "metadata": {},
   "source": [
    "**주변확률**: 결합확률과 대비되는 개념, 결합되지 않는 개별 사건의 확률 P(A), P(B)"
   ]
  },
  {
   "cell_type": "markdown",
   "id": "aed48785",
   "metadata": {},
   "source": [
    "**사건 B에 대한 사건 A의 조건부확률**: B가 사실일 경우 사건 A에 대한 확률"
   ]
  },
  {
   "cell_type": "markdown",
   "id": "658a4a46",
   "metadata": {},
   "source": [
    "* **P(AlB)**: new P(A) if P(B) = 1 = **P(A,B) / P(B)**"
   ]
  },
  {
   "cell_type": "markdown",
   "id": "2a914c99",
   "metadata": {},
   "source": [
    "### 연습문제 6.5.1"
   ]
  },
  {
   "cell_type": "markdown",
   "id": "718c4a0e",
   "metadata": {},
   "source": [
    "1. 9 / 20 / 1/2\n",
    "2. 7/20 / 1/2\n",
    "3. 1/ 20 / 1/2\n",
    "4. 3/20 / 12/20\n",
    "5. 7/20 / 8/20\n",
    "6. 9/20 / 12/20\n",
    "7. 1/20 / 8/20"
   ]
  },
  {
   "cell_type": "markdown",
   "id": "6b975c20",
   "metadata": {},
   "source": [
    "### 연습문제 6.5.2"
   ]
  },
  {
   "cell_type": "code",
   "execution_count": null,
   "id": "10ca7438",
   "metadata": {},
   "outputs": [],
   "source": [
    "1. 6/20 / 10/20\n",
    "2. 4/20 / 10/20\n",
    "3. 4/20 / 10/20\n",
    "4. 6/20 / 12/20\n",
    "5. 4/20 / 8/20\n",
    "6. 6/20 / 12/20\n",
    "7. 4/20 / 8/20"
   ]
  },
  {
   "cell_type": "markdown",
   "id": "b7f5f008",
   "metadata": {},
   "source": [
    "### 독립"
   ]
  },
  {
   "cell_type": "markdown",
   "id": "a71de927",
   "metadata": {},
   "source": [
    "P(A,B) = P(A)*P(B) -> **두 사건 A와 B는 서로 독립**"
   ]
  },
  {
   "cell_type": "markdown",
   "id": "f3ff5602",
   "metadata": {},
   "source": [
    "* 독립인 경우 조건부확률 = 원래의 확률"
   ]
  },
  {
   "cell_type": "markdown",
   "id": "656940a7",
   "metadata": {},
   "source": [
    "### 원인과 결과, 근거와 추론, 가정과 조건부 결론"
   ]
  },
  {
   "cell_type": "markdown",
   "id": "c90c1aa8",
   "metadata": {},
   "source": [
    "조건부 확률 P(AlB)에서 사건(주장/명제) B,A를 각각,"
   ]
  },
  {
   "cell_type": "markdown",
   "id": "4932ef45",
   "metadata": {},
   "source": [
    "* 가정과 그 가정에 따른 조건부 결론\n",
    "* 원인과 결과\n",
    "* 근거와 추론"
   ]
  },
  {
   "cell_type": "markdown",
   "id": "86d0d866",
   "metadata": {},
   "source": [
    "으로 볼 수 있음."
   ]
  },
  {
   "cell_type": "markdown",
   "id": "a31642a1",
   "metadata": {},
   "source": [
    "P(A,B) = P(AlB)P(B) : **A, B가 모두 발생할 확률은 B라는 사건이 발생할 확률과 그 사건이 발생한 경우 다시 A가 발생할 경우의 곱**"
   ]
  },
  {
   "cell_type": "markdown",
   "id": "e8ab6213",
   "metadata": {},
   "source": [
    "### 사슬 법칙"
   ]
  },
  {
   "cell_type": "markdown",
   "id": "45439cb3",
   "metadata": {},
   "source": [
    "#### P(X1,...XN) = P(X1)∏_(i=2~N) P(XilX1,...Xi-1)"
   ]
  },
  {
   "cell_type": "markdown",
   "id": "c17f2cdd",
   "metadata": {},
   "source": [
    "### 확률변수"
   ]
  },
  {
   "cell_type": "markdown",
   "id": "27786580",
   "metadata": {},
   "source": [
    "#### 확률적인 숫자 값을 출력하는 변수"
   ]
  },
  {
   "cell_type": "markdown",
   "id": "5b0fd432",
   "metadata": {},
   "source": [
    "* 알파벳 대문자로 표기"
   ]
  },
  {
   "cell_type": "markdown",
   "id": "b09316ea",
   "metadata": {},
   "source": [
    "**확률 변수 X, Y가 독립**: 두 확률변수가 가질 수 있는 모든 사건의 조합에 대해 독립이 성립"
   ]
  },
  {
   "cell_type": "markdown",
   "id": "dda4aab0",
   "metadata": {},
   "source": [
    "### 연습문제 6.5.5"
   ]
  },
  {
   "cell_type": "markdown",
   "id": "4678f2fe",
   "metadata": {},
   "source": [
    "X=x    Y=y    P(X=x)    P(Y=y)    P(X=x)*P(Y=y)    P(X=x,Y=y)<br>\n",
    "0       0      12/20     10/20         30/100         3/10<br>\n",
    "0       1      12/20     10/20         30/100         3/10<br>\n",
    "1       0      8/20      10/20         20/100         2/10<br>\n",
    "1       1      8/20      10/20         20/100         2/10<br>"
   ]
  },
  {
   "cell_type": "markdown",
   "id": "0b09e550",
   "metadata": {},
   "source": [
    "### 피지엠파이 패키지"
   ]
  },
  {
   "cell_type": "markdown",
   "id": "5c6c3aed",
   "metadata": {},
   "source": [
    "**JointProbabilityDistribution(variables, cardinality, values)**: 결합확률 모형을 만드는 데 사용하는 클래스"
   ]
  },
  {
   "cell_type": "markdown",
   "id": "f83810f9",
   "metadata": {},
   "source": [
    "* variables: **확률변수의 이름** 문자열의 리스트. 정릐하려는 확률변수가 하나인 경우에도 리스트로 넣어야 함.\n",
    "* cardinality: 각 확률변수의 표본 혹은 배타적 사건의 수의 리스트\n",
    "* values: 확률변수의 모든 표본(조합)에 대한 (결합) 확률값의 리스트"
   ]
  },
  {
   "cell_type": "code",
   "execution_count": 1,
   "id": "60fc8690",
   "metadata": {},
   "outputs": [],
   "source": [
    "from pgmpy.factors.discrete import JointProbabilityDistribution as JPD"
   ]
  },
  {
   "cell_type": "code",
   "execution_count": 3,
   "id": "3fd7d5e0",
   "metadata": {},
   "outputs": [],
   "source": [
    "px = JPD(['X'], [2], np.array([12,8]) / 20)"
   ]
  },
  {
   "cell_type": "code",
   "execution_count": 4,
   "id": "cfe598ff",
   "metadata": {},
   "outputs": [
    {
     "name": "stdout",
     "output_type": "stream",
     "text": [
      "+------+--------+\n",
      "| X    |   P(X) |\n",
      "+======+========+\n",
      "| X(0) | 0.6000 |\n",
      "+------+--------+\n",
      "| X(1) | 0.4000 |\n",
      "+------+--------+\n"
     ]
    }
   ],
   "source": [
    "print(px)"
   ]
  },
  {
   "cell_type": "markdown",
   "id": "846de4a8",
   "metadata": {},
   "source": [
    "### 연습문제 6.5.6"
   ]
  },
  {
   "cell_type": "code",
   "execution_count": 5,
   "id": "324e476f",
   "metadata": {},
   "outputs": [
    {
     "name": "stdout",
     "output_type": "stream",
     "text": [
      "+------+--------+\n",
      "| Y    |   P(Y) |\n",
      "+======+========+\n",
      "| Y(0) | 0.5000 |\n",
      "+------+--------+\n",
      "| Y(1) | 0.5000 |\n",
      "+------+--------+\n"
     ]
    }
   ],
   "source": [
    "py = JPD(['Y'], [2], np.array([10,10]) / 20)\n",
    "print(py)"
   ]
  },
  {
   "cell_type": "code",
   "execution_count": 17,
   "id": "6137d56a",
   "metadata": {},
   "outputs": [
    {
     "name": "stdout",
     "output_type": "stream",
     "text": [
      "+------+------+----------+\n",
      "| X    | Y    |   P(X,Y) |\n",
      "+======+======+==========+\n",
      "| X(0) | Y(0) |   0.1500 |\n",
      "+------+------+----------+\n",
      "| X(0) | Y(1) |   0.4500 |\n",
      "+------+------+----------+\n",
      "| X(1) | Y(0) |   0.3500 |\n",
      "+------+------+----------+\n",
      "| X(1) | Y(1) |   0.0500 |\n",
      "+------+------+----------+\n"
     ]
    }
   ],
   "source": [
    "pxy = JPD(['X', 'Y'], [2, 2], np.array([3, 9, 7, 1]) / 20)\n",
    "print(pxy)"
   ]
  },
  {
   "cell_type": "markdown",
   "id": "9e117781",
   "metadata": {},
   "source": [
    "### 연습문제 6.5.7"
   ]
  },
  {
   "cell_type": "code",
   "execution_count": 9,
   "id": "2eb91af8",
   "metadata": {},
   "outputs": [
    {
     "name": "stdout",
     "output_type": "stream",
     "text": [
      "+------+------+----------+\n",
      "| X    | Y    |   P(X,Y) |\n",
      "+======+======+==========+\n",
      "| X(0) | Y(0) |   0.3000 |\n",
      "+------+------+----------+\n",
      "| X(0) | Y(1) |   0.3000 |\n",
      "+------+------+----------+\n",
      "| X(1) | Y(0) |   0.2000 |\n",
      "+------+------+----------+\n",
      "| X(1) | Y(1) |   0.2000 |\n",
      "+------+------+----------+\n"
     ]
    }
   ],
   "source": [
    "pxy2 = JPD(['X', 'Y'], [2, 2], np.array([6, 6, 4, 4]) / 20)\n",
    "print(pxy2)"
   ]
  },
  {
   "cell_type": "markdown",
   "id": "c04b517c",
   "metadata": {},
   "source": [
    "#### JointProbabilityDistribution 클래스의 메서드"
   ]
  },
  {
   "cell_type": "markdown",
   "id": "d5bbf22e",
   "metadata": {},
   "source": [
    "* **marginal_distribution() = marginalize()**: 결합확률로부터 주변확률을 계산\n",
    "* **conditional_distribution()**: 조건부확률을 계산"
   ]
  },
  {
   "cell_type": "markdown",
   "id": "1f74d2c8",
   "metadata": {},
   "source": [
    "#### marginal_distribution(values,inplace=True)"
   ]
  },
  {
   "cell_type": "markdown",
   "id": "f0b9050f",
   "metadata": {},
   "source": [
    "* **values: 주변확률을 구할 확률변수의 이름 문자열 리스트**\n",
    "* **inplace: True이면 객체 자신을 주변확률 모형으로 변화시킨다. False면 주변확률 모형 객체를 반환함.**"
   ]
  },
  {
   "cell_type": "markdown",
   "id": "2f2e2924",
   "metadata": {},
   "source": [
    "#### marginalize(values, inplace=True)"
   ]
  },
  {
   "cell_type": "markdown",
   "id": "aaeaf9f4",
   "metadata": {},
   "source": [
    "* **values: 어떤 확률변수의 주변확률을 구하기 위해 없앨 확률변수의 이름 문자열 리스트**\n",
    "* **inplace: True이면 객체 자신을 주변확률 모형으로 변화시킨다. False면 주변확률 모형 객체를 반환함.**"
   ]
  },
  {
   "cell_type": "markdown",
   "id": "bdb30952",
   "metadata": {},
   "source": [
    "#### conditional_distribution(values, inplace=True)"
   ]
  },
  {
   "cell_type": "markdown",
   "id": "50c66ab2",
   "metadata": {},
   "source": [
    "* **values: 조건부확률을 구할 확률변수의 이름 문자열과 값을 묶은 튜플의 리스트**\n",
    "* **True이면 객체 자신을 주변확률 모형으로 변화시킨다. False면 주변확률 모형 객체를 반환함.**"
   ]
  },
  {
   "cell_type": "code",
   "execution_count": 14,
   "id": "504f7f63",
   "metadata": {},
   "outputs": [
    {
     "name": "stdout",
     "output_type": "stream",
     "text": [
      "+------+--------+\n",
      "| X    |   P(X) |\n",
      "+======+========+\n",
      "| X(0) | 0.6000 |\n",
      "+------+--------+\n",
      "| X(1) | 0.4000 |\n",
      "+------+--------+\n"
     ]
    }
   ],
   "source": [
    "pmx = pxy.marginal_distribution(['X'], inplace=False)\n",
    "print(pmx)"
   ]
  },
  {
   "cell_type": "code",
   "execution_count": 18,
   "id": "a50bb623",
   "metadata": {},
   "outputs": [
    {
     "name": "stdout",
     "output_type": "stream",
     "text": [
      "+------+--------+\n",
      "| X    |   P(X) |\n",
      "+======+========+\n",
      "| X(0) | 0.6000 |\n",
      "+------+--------+\n",
      "| X(1) | 0.4000 |\n",
      "+------+--------+\n"
     ]
    }
   ],
   "source": [
    "pmx = pxy.marginalize(['Y'], inplace=False)\n",
    "print(pmx)"
   ]
  },
  {
   "cell_type": "code",
   "execution_count": 20,
   "id": "2cd3f706",
   "metadata": {},
   "outputs": [
    {
     "name": "stdout",
     "output_type": "stream",
     "text": [
      "+------+--------+\n",
      "| Y    |   P(Y) |\n",
      "+======+========+\n",
      "| Y(0) | 0.5000 |\n",
      "+------+--------+\n",
      "| Y(1) | 0.5000 |\n",
      "+------+--------+\n"
     ]
    }
   ],
   "source": [
    "py = pxy.marginal_distribution(['Y'], inplace=False)\n",
    "print(py)"
   ]
  },
  {
   "cell_type": "code",
   "execution_count": 21,
   "id": "2248e739",
   "metadata": {},
   "outputs": [
    {
     "name": "stdout",
     "output_type": "stream",
     "text": [
      "+------+--------+\n",
      "| Y    |   P(Y) |\n",
      "+======+========+\n",
      "| Y(0) | 0.2500 |\n",
      "+------+--------+\n",
      "| Y(1) | 0.7500 |\n",
      "+------+--------+\n"
     ]
    }
   ],
   "source": [
    "py_on_x0 = pxy.conditional_distribution([('X', 0)], inplace=False)\n",
    "print(py_on_x0)"
   ]
  },
  {
   "cell_type": "code",
   "execution_count": 23,
   "id": "04ef4167",
   "metadata": {},
   "outputs": [
    {
     "name": "stdout",
     "output_type": "stream",
     "text": [
      "+------+--------+\n",
      "| Y    |   P(Y) |\n",
      "+======+========+\n",
      "| Y(0) | 0.8750 |\n",
      "+------+--------+\n",
      "| Y(1) | 0.1250 |\n",
      "+------+--------+\n"
     ]
    }
   ],
   "source": [
    "py_on_x1 = pxy.conditional_distribution([('X', 1)], inplace=False)\n",
    "print(py_on_x1)"
   ]
  },
  {
   "cell_type": "code",
   "execution_count": 24,
   "id": "af333bb5",
   "metadata": {},
   "outputs": [
    {
     "name": "stdout",
     "output_type": "stream",
     "text": [
      "+------+--------+\n",
      "| X    |   P(X) |\n",
      "+======+========+\n",
      "| X(0) | 0.3000 |\n",
      "+------+--------+\n",
      "| X(1) | 0.7000 |\n",
      "+------+--------+\n"
     ]
    }
   ],
   "source": [
    "px_on_y0 = pxy.conditional_distribution([('Y', 0)], inplace=False)\n",
    "print(px_on_y0)"
   ]
  },
  {
   "cell_type": "markdown",
   "id": "5541c960",
   "metadata": {},
   "source": [
    "#### check_independence()메서드: 두 확률변수 간의 독립 확인"
   ]
  },
  {
   "cell_type": "code",
   "execution_count": 26,
   "id": "92ad4418",
   "metadata": {},
   "outputs": [
    {
     "data": {
      "text/plain": [
       "False"
      ]
     },
     "execution_count": 26,
     "metadata": {},
     "output_type": "execute_result"
    }
   ],
   "source": [
    "pxy.check_independence(['X'], ['Y'])"
   ]
  },
  {
   "cell_type": "markdown",
   "id": "80f2662c",
   "metadata": {},
   "source": [
    "두 개의 JointProbabilityDistribution 객체끼리 곱하면 두 분포가 독립이라는 가정 하에 결합확률을 구함."
   ]
  },
  {
   "cell_type": "code",
   "execution_count": 27,
   "id": "878cab85",
   "metadata": {},
   "outputs": [
    {
     "name": "stdout",
     "output_type": "stream",
     "text": [
      "+------+------+----------+\n",
      "| X    | Y    |   P(X,Y) |\n",
      "+======+======+==========+\n",
      "| X(0) | Y(0) |   0.3000 |\n",
      "+------+------+----------+\n",
      "| X(0) | Y(1) |   0.3000 |\n",
      "+------+------+----------+\n",
      "| X(1) | Y(0) |   0.2000 |\n",
      "+------+------+----------+\n",
      "| X(1) | Y(1) |   0.2000 |\n",
      "+------+------+----------+\n",
      "+------+------+----------+\n",
      "| X    | Y    |   P(X,Y) |\n",
      "+======+======+==========+\n",
      "| X(0) | Y(0) |   0.1500 |\n",
      "+------+------+----------+\n",
      "| X(0) | Y(1) |   0.4500 |\n",
      "+------+------+----------+\n",
      "| X(1) | Y(0) |   0.3500 |\n",
      "+------+------+----------+\n",
      "| X(1) | Y(1) |   0.0500 |\n",
      "+------+------+----------+\n"
     ]
    }
   ],
   "source": [
    "print(px * py)\n",
    "print(pxy)"
   ]
  },
  {
   "cell_type": "markdown",
   "id": "3ef5a738",
   "metadata": {},
   "source": [
    "### 연습문제 6.5.8"
   ]
  },
  {
   "cell_type": "code",
   "execution_count": 30,
   "id": "6d323aba",
   "metadata": {},
   "outputs": [
    {
     "name": "stdout",
     "output_type": "stream",
     "text": [
      "+------+--------+\n",
      "| X    |   P(X) |\n",
      "+======+========+\n",
      "| X(0) | 0.6000 |\n",
      "+------+--------+\n",
      "| X(1) | 0.4000 |\n",
      "+------+--------+ +------+--------+\n",
      "| Y    |   P(Y) |\n",
      "+======+========+\n",
      "| Y(0) | 0.5000 |\n",
      "+------+--------+\n",
      "| Y(1) | 0.5000 |\n",
      "+------+--------+ +------+--------+\n",
      "| X    |   P(X) |\n",
      "+======+========+\n",
      "| X(0) | 0.6000 |\n",
      "+------+--------+\n",
      "| X(1) | 0.4000 |\n",
      "+------+--------+ +------+--------+\n",
      "| X    |   P(X) |\n",
      "+======+========+\n",
      "| X(0) | 0.6000 |\n",
      "+------+--------+\n",
      "| X(1) | 0.4000 |\n",
      "+------+--------+ +------+--------+\n",
      "| Y    |   P(Y) |\n",
      "+======+========+\n",
      "| Y(0) | 0.5000 |\n",
      "+------+--------+\n",
      "| Y(1) | 0.5000 |\n",
      "+------+--------+ +------+--------+\n",
      "| Y    |   P(Y) |\n",
      "+======+========+\n",
      "| Y(0) | 0.5000 |\n",
      "+------+--------+\n",
      "| Y(1) | 0.5000 |\n",
      "+------+--------+ True\n"
     ]
    }
   ],
   "source": [
    "px2 = pxy2.marginalize(['Y'], inplace=False)\n",
    "py2 = pxy2.marginalize(['X'], inplace=False)\n",
    "px2_on_y0 = pxy2.conditional_distribution([('Y', 0)], inplace=False)\n",
    "px2_on_y1 = pxy2.conditional_distribution([('Y', 1)], inplace=False)\n",
    "py2_on_x0 = pxy2.conditional_distribution([('X', 0)], inplace=False)\n",
    "py2_on_x1 = pxy2.conditional_distribution([('X', 1)], inplace=False)\n",
    "check = pxy2.check_independence(['X'],['Y'])\n",
    "print(px2, py2, px2_on_y0, px2_on_y1, py2_on_x0, py2_on_x1, check)"
   ]
  },
  {
   "cell_type": "markdown",
   "id": "98371e99",
   "metadata": {},
   "source": [
    "# 6.6 베이즈 정리"
   ]
  },
  {
   "cell_type": "markdown",
   "id": "f2aa0502",
   "metadata": {},
   "source": [
    "**베이즈정리**: 조건부확률을 구하는 공식"
   ]
  },
  {
   "cell_type": "markdown",
   "id": "a32c4837",
   "metadata": {},
   "source": [
    "* P(AlB) = P(BlA) P(A) / P(B)"
   ]
  },
  {
   "cell_type": "markdown",
   "id": "cdb65326",
   "metadata": {},
   "source": [
    "이 때 P(A)=**사전확률**: 사건 B가 발생하기 전에 가지고 있던 사건 A의 확률"
   ]
  },
  {
   "cell_type": "markdown",
   "id": "e90a286d",
   "metadata": {},
   "source": [
    "P(AlB)=**사후확률**: 사건 B가 발생하면 이 정보를 반영한 후 사건 A의 확률"
   ]
  },
  {
   "cell_type": "markdown",
   "id": "9a3103c8",
   "metadata": {},
   "source": [
    "사후확률값은 사전확률에 P(BlA) / P(B) 라는 값을  곱하면 얻을 수 있다."
   ]
  },
  {
   "cell_type": "markdown",
   "id": "9d0bf549",
   "metadata": {},
   "source": [
    "이 때, 곱하는 P(BlA)는 **가능도**, 나누는 P(B)는 **정규화 상수** 혹은 **증거**라고 함."
   ]
  },
  {
   "cell_type": "markdown",
   "id": "b7ae4951",
   "metadata": {},
   "source": [
    "### 베이즈 정리의 확장1"
   ]
  },
  {
   "cell_type": "markdown",
   "id": "df94222f",
   "metadata": {},
   "source": [
    "Ai ∩ Aj = Φ, A1 ∪ A2 ∪... = Ω일 때,"
   ]
  },
  {
   "cell_type": "markdown",
   "id": "e1339ad9",
   "metadata": {},
   "source": [
    "전체 확률의 법칙을 이용하여 베이즈 정리를 확장할 수 있다."
   ]
  },
  {
   "cell_type": "markdown",
   "id": "c53c517f",
   "metadata": {},
   "source": [
    "P(A1lB) = P(BlA1)P(A1) / P(B) = P(BlA1)P(A1) / ∑P(Ai,B) = P(BlA1)P(A1) / ∑P(BlAi)P(Ai)"
   ]
  },
  {
   "cell_type": "markdown",
   "id": "5dc31eeb",
   "metadata": {},
   "source": [
    "### 검사 시약 문제"
   ]
  },
  {
   "cell_type": "markdown",
   "id": "36282323",
   "metadata": {},
   "source": [
    "이진 분류 문제에 해당하는 베이즈 정리 확장 사용"
   ]
  },
  {
   "cell_type": "markdown",
   "id": "39c7b3da",
   "metadata": {},
   "source": [
    "### 피지엠파이를 사용한 베이즈 정리 적용"
   ]
  },
  {
   "cell_type": "markdown",
   "id": "37cef016",
   "metadata": {},
   "source": [
    "**BayesianModel** 클래스: 베이즈 정리에 적용"
   ]
  },
  {
   "cell_type": "markdown",
   "id": "fdcc804c",
   "metadata": {},
   "source": [
    "**TabularCPD**클래스: 사전확률과 가능도 구현하여 주건부확률 구현"
   ]
  },
  {
   "cell_type": "markdown",
   "id": "ee9ddb15",
   "metadata": {},
   "source": [
    "#### TabularCPD(variable, variable_card, value, evidence=None, evidence_card = None)"
   ]
  },
  {
   "cell_type": "markdown",
   "id": "1c7d68a3",
   "metadata": {},
   "source": [
    "* **variable**: 확률변수의 이름 문자열\n",
    "* **variable_card**: 확률변수가 가질 수 있는 경우의 수\n",
    "* **value**: 조건부확률 배열. 하나의 열이 동일 조건을 뜻하므로 하나의 열의 확률합은 1\n",
    "* **evidence**: 조건이 되는 확률변수의 이름 문자열의 리스트\n",
    "* **evidence_card**: 조건이 되는 확률변수가 가질 수 있는 경우의 수의 리스트"
   ]
  },
  {
   "cell_type": "markdown",
   "id": "f9e2aab3",
   "metadata": {},
   "source": [
    "* **evidence=None, evidence_card=None**으로 인수를 주면 일반적인 확률 구현 가능"
   ]
  },
  {
   "cell_type": "code",
   "execution_count": 34,
   "id": "8052a9d7",
   "metadata": {},
   "outputs": [
    {
     "name": "stdout",
     "output_type": "stream",
     "text": [
      "+------+-------+\n",
      "| X(0) | 0.998 |\n",
      "+------+-------+\n",
      "| X(1) | 0.002 |\n",
      "+------+-------+\n"
     ]
    }
   ],
   "source": [
    "from pgmpy.factors.discrete import TabularCPD\n",
    "\n",
    "cpd_X = TabularCPD('X', 2, [[1 - 0.002], [0.002]])\n",
    "print(cpd_X)"
   ]
  },
  {
   "cell_type": "code",
   "execution_count": 35,
   "id": "f64a27bb",
   "metadata": {},
   "outputs": [
    {
     "name": "stdout",
     "output_type": "stream",
     "text": [
      "+------+------+------+\n",
      "| X    | X(0) | X(1) |\n",
      "+------+------+------+\n",
      "| Y(0) | 0.95 | 0.01 |\n",
      "+------+------+------+\n",
      "| Y(1) | 0.05 | 0.99 |\n",
      "+------+------+------+\n"
     ]
    }
   ],
   "source": [
    "cpd_Y_on_X = TabularCPD('Y', 2, np.array([[0.95, 0.01], [0.05, 0.99]]), evidence = ['X'], evidence_card = [2])\n",
    "print(cpd_Y_on_X)"
   ]
  },
  {
   "cell_type": "markdown",
   "id": "12f82931",
   "metadata": {},
   "source": [
    "#### BayesianModel(variable)"
   ]
  },
  {
   "cell_type": "markdown",
   "id": "f6232c1d",
   "metadata": {},
   "source": [
    "* **variables: 확률모형이 포함하는 확률변수 이름 문자열의 리스트**"
   ]
  },
  {
   "cell_type": "markdown",
   "id": "8fd79eee",
   "metadata": {},
   "source": [
    "* **add_cpds()**: 조건부확률 추가\n",
    "* **check_model()**: 모형이 정상적인지 확인. True면 정상"
   ]
  },
  {
   "cell_type": "code",
   "execution_count": 37,
   "id": "df97e104",
   "metadata": {},
   "outputs": [
    {
     "data": {
      "text/plain": [
       "True"
      ]
     },
     "execution_count": 37,
     "metadata": {},
     "output_type": "execute_result"
    }
   ],
   "source": [
    "from pgmpy.models import BayesianModel\n",
    "\n",
    "model = BayesianModel([('X', 'Y')])\n",
    "model.add_cpds(cpd_X, cpd_Y_on_X)\n",
    "model.check_model()"
   ]
  },
  {
   "cell_type": "markdown",
   "id": "e527cddd",
   "metadata": {},
   "source": [
    "**VariableElimination** 클래스: 추정 객체를 만들고 이 객체의 query() 메서드를 사용하면 사후확률을 계산"
   ]
  },
  {
   "cell_type": "markdown",
   "id": "42749e87",
   "metadata": {},
   "source": [
    "#### query(variables, evidences)"
   ]
  },
  {
   "cell_type": "markdown",
   "id": "c2df0e9a",
   "metadata": {},
   "source": [
    "* **variables: 사후확률을 계산할 확률변수의 이름 리스트**\n",
    "* **evidences: 조건이 되는 확률변수의 값을 나타내는 딕셔너리**"
   ]
  },
  {
   "cell_type": "code",
   "execution_count": 39,
   "id": "661335a5",
   "metadata": {},
   "outputs": [
    {
     "name": "stdout",
     "output_type": "stream",
     "text": [
      "+------+----------+\n",
      "| X    |   phi(X) |\n",
      "+======+==========+\n",
      "| X(0) |   0.9618 |\n",
      "+------+----------+\n",
      "| X(1) |   0.0382 |\n",
      "+------+----------+\n"
     ]
    }
   ],
   "source": [
    "from pgmpy.inference import VariableElimination\n",
    "\n",
    "inference = VariableElimination(model)\n",
    "posterior = inference.query(['X'], evidence={'Y': 1}, joint=False, show_progress=False)\n",
    "print(posterior['X'])"
   ]
  },
  {
   "cell_type": "markdown",
   "id": "78ad597f",
   "metadata": {},
   "source": [
    "### 베이즈 정리의 확장2"
   ]
  },
  {
   "cell_type": "code",
   "execution_count": null,
   "id": "c88be1ac",
   "metadata": {},
   "outputs": [],
   "source": [
    "P(AlB,C) = P(ClA,B) P(AlB) / P(ClB)"
   ]
  },
  {
   "cell_type": "markdown",
   "id": "e3974dbd",
   "metadata": {},
   "source": [
    "### 몬티 홀 문제"
   ]
  }
 ],
 "metadata": {
  "kernelspec": {
   "display_name": "pytorch",
   "language": "python",
   "name": "pt1.1"
  },
  "language_info": {
   "codemirror_mode": {
    "name": "ipython",
    "version": 3
   },
   "file_extension": ".py",
   "mimetype": "text/x-python",
   "name": "python",
   "nbconvert_exporter": "python",
   "pygments_lexer": "ipython3",
   "version": "3.9.7"
  }
 },
 "nbformat": 4,
 "nbformat_minor": 5
}
