{
 "cells": [
  {
   "cell_type": "markdown",
   "id": "3168267e",
   "metadata": {},
   "source": [
    "# 7.4 다변수 확률변수"
   ]
  },
  {
   "cell_type": "markdown",
   "id": "fa8aab85",
   "metadata": {},
   "source": [
    "### 연습문제 7.4.1"
   ]
  },
  {
   "cell_type": "code",
   "execution_count": null,
   "id": "e859c1b9",
   "metadata": {},
   "outputs": [],
   "source": [
    "1. 0.02\n",
    "2. 0\n",
    "3. (C,C)"
   ]
  },
  {
   "cell_type": "markdown",
   "id": "2374e0fc",
   "metadata": {},
   "source": [
    "### 연습문제 7.4.2"
   ]
  },
  {
   "cell_type": "code",
   "execution_count": null,
   "id": "09ac6da7",
   "metadata": {},
   "outputs": [],
   "source": [
    "1. 0.08\n",
    "2. 0.18"
   ]
  },
  {
   "cell_type": "markdown",
   "id": "e318ec4b",
   "metadata": {},
   "source": [
    "### 연습문제 7.4.3"
   ]
  },
  {
   "cell_type": "code",
   "execution_count": null,
   "id": "c85926cf",
   "metadata": {},
   "outputs": [],
   "source": [
    "1. B\n",
    "2. C"
   ]
  },
  {
   "cell_type": "markdown",
   "id": "23fa0565",
   "metadata": {},
   "source": [
    "### 연습문제 7.4.4"
   ]
  },
  {
   "cell_type": "code",
   "execution_count": null,
   "id": "e143a3a9",
   "metadata": {},
   "outputs": [],
   "source": [
    "1. (70, 170)\n",
    "2. 70\n",
    "3. 60"
   ]
  },
  {
   "cell_type": "markdown",
   "id": "4b74c69d",
   "metadata": {},
   "source": [
    "### 연습문제 7.5.1"
   ]
  },
  {
   "cell_type": "code",
   "execution_count": 2,
   "id": "07f29720",
   "metadata": {},
   "outputs": [],
   "source": [
    "from sklearn.datasets import load_iris\n",
    "X = load_iris().data\n",
    "x1 = X[:, 0]\n",
    "x2 = X[:, 1]\n",
    "x3 = X[:, 2]\n",
    "x4 = X[:, 3]"
   ]
  },
  {
   "cell_type": "markdown",
   "id": "01b44722",
   "metadata": {},
   "source": [
    "1."
   ]
  },
  {
   "cell_type": "code",
   "execution_count": 3,
   "id": "e0449dbf",
   "metadata": {},
   "outputs": [
    {
     "data": {
      "text/plain": [
       "-0.11756978413300188"
      ]
     },
     "execution_count": 3,
     "metadata": {},
     "output_type": "execute_result"
    }
   ],
   "source": [
    "sp.stats.pearsonr(x1, x2)[0]"
   ]
  },
  {
   "cell_type": "markdown",
   "id": "df1831f6",
   "metadata": {},
   "source": [
    "2."
   ]
  },
  {
   "cell_type": "code",
   "execution_count": 4,
   "id": "10761976",
   "metadata": {},
   "outputs": [
    {
     "data": {
      "text/plain": [
       "0.9628654314027963"
      ]
     },
     "execution_count": 4,
     "metadata": {},
     "output_type": "execute_result"
    }
   ],
   "source": [
    "sp.stats.pearsonr(x3, x4)[0]"
   ]
  },
  {
   "cell_type": "markdown",
   "id": "7a79feb5",
   "metadata": {},
   "source": [
    "3."
   ]
  },
  {
   "cell_type": "code",
   "execution_count": 5,
   "id": "13b229ef",
   "metadata": {},
   "outputs": [
    {
     "data": {
      "text/plain": [
       "-0.36612593253643866"
      ]
     },
     "execution_count": 5,
     "metadata": {},
     "output_type": "execute_result"
    }
   ],
   "source": [
    "sp.stats.pearsonr(x2, x4)[0]"
   ]
  },
  {
   "cell_type": "markdown",
   "id": "0a274d14",
   "metadata": {},
   "source": [
    "### 연습문제 7.5.2"
   ]
  },
  {
   "cell_type": "code",
   "execution_count": 6,
   "id": "d4f94fa6",
   "metadata": {},
   "outputs": [
    {
     "data": {
      "text/plain": [
       "(array([52, 28, 14, 33, 74, 88, 67, 16, 22,  8]),\n",
       " array([85, 35, 26, 72, 29, 31, 64, 80, 47, 58]))"
      ]
     },
     "execution_count": 6,
     "metadata": {},
     "output_type": "execute_result"
    }
   ],
   "source": [
    "A = np.random.randint(1,100,10)\n",
    "B = np.random.randint(1,100,10)\n",
    "A, B"
   ]
  },
  {
   "cell_type": "code",
   "execution_count": 7,
   "id": "ae81312c",
   "metadata": {},
   "outputs": [
    {
     "data": {
      "text/plain": [
       "-0.1972345626940133"
      ]
     },
     "execution_count": 7,
     "metadata": {},
     "output_type": "execute_result"
    }
   ],
   "source": [
    "sp.stats.pearsonr(A, B)[0]"
   ]
  },
  {
   "cell_type": "code",
   "execution_count": 8,
   "id": "6d1e6d82",
   "metadata": {},
   "outputs": [],
   "source": [
    "C = np.random.randint(1,100,10000)\n",
    "D = np.random.randint(1,100,10000)"
   ]
  },
  {
   "cell_type": "code",
   "execution_count": 9,
   "id": "099136da",
   "metadata": {},
   "outputs": [
    {
     "data": {
      "text/plain": [
       "0.013733244066156638"
      ]
     },
     "execution_count": 9,
     "metadata": {},
     "output_type": "execute_result"
    }
   ],
   "source": [
    "sp.stats.pearsonr(C, D)[0]"
   ]
  },
  {
   "cell_type": "markdown",
   "id": "04db470a",
   "metadata": {},
   "source": [
    "선택된 표본이 우연한 상관관계를 가질 수 있기 때문이다."
   ]
  },
  {
   "cell_type": "markdown",
   "id": "ac8e0ecd",
   "metadata": {},
   "source": [
    "### 연습문제 7.5.3"
   ]
  },
  {
   "cell_type": "markdown",
   "id": "6ceabf02",
   "metadata": {},
   "source": [
    "노트 작성"
   ]
  },
  {
   "cell_type": "markdown",
   "id": "31a51ac7",
   "metadata": {},
   "source": [
    "### 연습문제 7.5.4"
   ]
  },
  {
   "cell_type": "code",
   "execution_count": 31,
   "id": "1656ce0e",
   "metadata": {},
   "outputs": [
    {
     "data": {
      "text/plain": [
       "array([[ 0.68112222, -0.04215111,  1.26582   ,  0.51282889],\n",
       "       [-0.04215111,  0.18871289, -0.32745867, -0.12082844],\n",
       "       [ 1.26582   , -0.32745867,  3.09550267,  1.286972  ],\n",
       "       [ 0.51282889, -0.12082844,  1.286972  ,  0.57713289]])"
      ]
     },
     "execution_count": 31,
     "metadata": {},
     "output_type": "execute_result"
    }
   ],
   "source": [
    "n = np.size(X, 0)\n",
    "m = 4\n",
    "n1 = np.ones((n,1))\n",
    "x_bar = (X.T @ n1) * (1/n)\n",
    "X0 = X - (n1 @  x_bar.T)\n",
    "S = (X0.T @ X0) *(1/n)\n",
    "S"
   ]
  },
  {
   "cell_type": "code",
   "execution_count": 33,
   "id": "58f000d7",
   "metadata": {},
   "outputs": [
    {
     "data": {
      "text/plain": [
       "array([[ 0.68112222, -0.04215111,  1.26582   ,  0.51282889],\n",
       "       [-0.04215111,  0.18871289, -0.32745867, -0.12082844],\n",
       "       [ 1.26582   , -0.32745867,  3.09550267,  1.286972  ],\n",
       "       [ 0.51282889, -0.12082844,  1.286972  ,  0.57713289]])"
      ]
     },
     "execution_count": 33,
     "metadata": {},
     "output_type": "execute_result"
    }
   ],
   "source": [
    "np.cov(X.T, ddof=0)"
   ]
  },
  {
   "cell_type": "markdown",
   "id": "5683557e",
   "metadata": {},
   "source": [
    "# 7.6 조건부기댓값과 예측 문제"
   ]
  },
  {
   "cell_type": "markdown",
   "id": "0f66c5f7",
   "metadata": {},
   "source": [
    "노트 작성"
   ]
  },
  {
   "cell_type": "code",
   "execution_count": null,
   "id": "ba7291d6",
   "metadata": {},
   "outputs": [],
   "source": []
  }
 ],
 "metadata": {
  "kernelspec": {
   "display_name": "pytorch",
   "language": "python",
   "name": "pt1.1"
  },
  "language_info": {
   "codemirror_mode": {
    "name": "ipython",
    "version": 3
   },
   "file_extension": ".py",
   "mimetype": "text/x-python",
   "name": "python",
   "nbconvert_exporter": "python",
   "pygments_lexer": "ipython3",
   "version": "3.9.7"
  }
 },
 "nbformat": 4,
 "nbformat_minor": 5
}
