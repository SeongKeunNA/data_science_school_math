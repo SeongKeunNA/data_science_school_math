{
 "cells": [
  {
   "cell_type": "markdown",
   "id": "e07a2289",
   "metadata": {},
   "source": [
    "# 7.2 기댓값과 확률변수의 변환"
   ]
  },
  {
   "cell_type": "markdown",
   "id": "aaa1baa8",
   "metadata": {},
   "source": [
    "### 연습문제 7.2.3"
   ]
  },
  {
   "cell_type": "code",
   "execution_count": null,
   "id": "28e0da72",
   "metadata": {},
   "outputs": [],
   "source": [
    "75"
   ]
  },
  {
   "cell_type": "markdown",
   "id": "e8b57a28",
   "metadata": {},
   "source": [
    "### 연습문제 7.2.4"
   ]
  },
  {
   "cell_type": "code",
   "execution_count": null,
   "id": "e724df35",
   "metadata": {},
   "outputs": [],
   "source": [
    "노트에 작성"
   ]
  },
  {
   "cell_type": "markdown",
   "id": "d4c7b0f8",
   "metadata": {},
   "source": [
    "### 연습문제 7.2.5"
   ]
  },
  {
   "cell_type": "code",
   "execution_count": null,
   "id": "cddd9723",
   "metadata": {},
   "outputs": [],
   "source": [
    "노트에 작성"
   ]
  },
  {
   "cell_type": "markdown",
   "id": "9b4e6644",
   "metadata": {},
   "source": [
    "### 연습문제 7.2.6"
   ]
  },
  {
   "cell_type": "code",
   "execution_count": null,
   "id": "476523e6",
   "metadata": {},
   "outputs": [],
   "source": [
    "표본평균처럼 (편향)표본분산도 확률적인 데이터다. 실현된 표본들을 대상으로 평균에서 얼마나 떨어져있는지를 계산하기 때문이다.\n",
    "s^2 = 1/n ∑(xi-mean(x))^2"
   ]
  },
  {
   "cell_type": "markdown",
   "id": "d18dae92",
   "metadata": {},
   "source": [
    "# 7.3 분산과 표준편차"
   ]
  },
  {
   "cell_type": "markdown",
   "id": "7e8f1267",
   "metadata": {},
   "source": [
    "### 연습문제 7.3.1"
   ]
  },
  {
   "cell_type": "markdown",
   "id": "633255c6",
   "metadata": {},
   "source": [
    "1. 주사위와 동전을 각각 던졌을 때, 주사위가 3이 나오고 동전은 앞면이 나올 확률\n",
    "2. 담배를 하루에 몇개비 피우는지와 30년내 폐암 발생확률"
   ]
  },
  {
   "cell_type": "markdown",
   "id": "1373c3c6",
   "metadata": {},
   "source": [
    "### 연습문제 7.3.2"
   ]
  },
  {
   "cell_type": "markdown",
   "id": "85ca2fee",
   "metadata": {},
   "source": [
    "1."
   ]
  },
  {
   "cell_type": "code",
   "execution_count": 2,
   "id": "6d63281a",
   "metadata": {},
   "outputs": [
    {
     "data": {
      "text/plain": [
       "array([8, 1, 9, 4, 3, 1, 3, 2, 6, 9, 6, 2, 8, 1, 1, 4, 2, 4, 5, 5, 6, 6,\n",
       "       5, 4, 5, 8, 5, 8, 6, 8, 4, 4, 2, 4, 7, 6, 6, 2, 5, 5, 5, 8, 2, 4,\n",
       "       6, 7, 8, 6, 6, 9, 6, 6, 3, 1, 1, 9, 3, 7, 1, 1, 9, 5, 1, 2, 5, 8,\n",
       "       2, 8, 6, 5, 5, 8, 6, 9, 1, 1, 1, 6, 8, 2, 9, 7, 3, 1, 8, 4, 6, 3,\n",
       "       8, 6, 3, 8, 2, 5, 5, 8, 5, 5, 2, 8])"
      ]
     },
     "execution_count": 2,
     "metadata": {},
     "output_type": "execute_result"
    }
   ],
   "source": [
    "data = np.random.randint(1,10,100)\n",
    "data"
   ]
  },
  {
   "cell_type": "markdown",
   "id": "fae0df47",
   "metadata": {},
   "source": [
    "2."
   ]
  },
  {
   "cell_type": "code",
   "execution_count": 3,
   "id": "fa5d558c",
   "metadata": {},
   "outputs": [
    {
     "data": {
      "text/plain": [
       "array([4, 3, 3, 2, 9, 3, 5, 9, 9, 4, 7, 8, 2, 6, 5, 8, 9, 2, 9, 4, 5, 1,\n",
       "       5, 4, 7, 9, 3, 8, 5, 1, 5, 7, 4, 2, 7, 7, 6, 4, 3, 2, 2, 1, 1, 7,\n",
       "       2, 9, 4, 9, 7, 4, 1, 9, 4, 8, 8, 7, 9, 9, 4, 6, 2, 2, 9, 2, 8, 9,\n",
       "       6, 3, 2, 3, 7, 4, 4, 9, 5, 3, 7, 6, 4, 4, 2, 2, 1, 4, 1, 6, 3, 7,\n",
       "       5, 8, 9, 8, 6, 8, 6, 8, 8, 4, 6, 6])"
      ]
     },
     "execution_count": 3,
     "metadata": {},
     "output_type": "execute_result"
    }
   ],
   "source": [
    "data2 = np.random.randint(1,10,100)\n",
    "data2"
   ]
  },
  {
   "cell_type": "markdown",
   "id": "139fa6ed",
   "metadata": {},
   "source": [
    "3."
   ]
  },
  {
   "cell_type": "code",
   "execution_count": 5,
   "id": "6e0aa25e",
   "metadata": {},
   "outputs": [
    {
     "data": {
      "text/plain": [
       "array([12,  4, 12,  6, 12,  4,  8, 11, 15, 13, 13, 10, 10,  7,  6, 12, 11,\n",
       "        6, 14,  9, 11,  7, 10,  8, 12, 17,  8, 16, 11,  9,  9, 11,  6,  6,\n",
       "       14, 13, 12,  6,  8,  7,  7,  9,  3, 11,  8, 16, 12, 15, 13, 13,  7,\n",
       "       15,  7,  9,  9, 16, 12, 16,  5,  7, 11,  7, 10,  4, 13, 17,  8, 11,\n",
       "        8,  8, 12, 12, 10, 18,  6,  4,  8, 12, 12,  6, 11,  9,  4,  5,  9,\n",
       "       10,  9, 10, 13, 14, 12, 16,  8, 13, 11, 16, 13,  9,  8, 14])"
      ]
     },
     "execution_count": 5,
     "metadata": {},
     "output_type": "execute_result"
    }
   ],
   "source": [
    "data3 = data + data2\n",
    "data3"
   ]
  },
  {
   "cell_type": "markdown",
   "id": "808ec367",
   "metadata": {},
   "source": [
    "4."
   ]
  },
  {
   "cell_type": "code",
   "execution_count": 6,
   "id": "3d885f65",
   "metadata": {},
   "outputs": [
    {
     "data": {
      "text/plain": [
       "(11.9011, 13.007499999999997)"
      ]
     },
     "execution_count": 6,
     "metadata": {},
     "output_type": "execute_result"
    }
   ],
   "source": [
    "data_var = np.var(data)\n",
    "data2_var = np.var(data2)\n",
    "data3_var = np.var(data3)\n",
    "data3_var, data_var+ data2_var"
   ]
  },
  {
   "cell_type": "markdown",
   "id": "d26e965c",
   "metadata": {},
   "source": [
    "### 연습문제 7.3.3"
   ]
  },
  {
   "cell_type": "code",
   "execution_count": 20,
   "id": "a81d399e",
   "metadata": {},
   "outputs": [
    {
     "data": {
      "text/plain": [
       "9.168983486145807"
      ]
     },
     "execution_count": 20,
     "metadata": {},
     "output_type": "execute_result"
    }
   ],
   "source": [
    "np.random.seed(0)\n",
    "\n",
    "x = np.random.normal(size = (100, 50))\n",
    "\n",
    "x_means = x.mean(axis = 0)\n",
    "\n",
    "std_xbar = x_means.std()\n",
    "\n",
    "std_x1 = x[:, 0].std()\n",
    "\n",
    "std_x1 / std_xbar"
   ]
  },
  {
   "cell_type": "code",
   "execution_count": 21,
   "id": "26dd517c",
   "metadata": {},
   "outputs": [
    {
     "data": {
      "text/plain": [
       "array([-0.23860905, -0.02963682,  0.07990919,  0.04965999, -0.10760923,\n",
       "        0.00931268, -0.08689131, -0.19181566,  0.06943874,  0.09526339,\n",
       "       -0.09168282,  0.15573291, -0.08256611, -0.19621611, -0.19704871,\n",
       "       -0.13009662,  0.07711461, -0.09356113, -0.04433717,  0.10112414,\n",
       "       -0.07018187, -0.09094521, -0.04110922, -0.10128457, -0.04342622,\n",
       "        0.06231968,  0.08157414,  0.15719825,  0.09395275,  0.13941486,\n",
       "       -0.07384888,  0.12343539, -0.17910471, -0.07575625, -0.11112913,\n",
       "       -0.22227549, -0.0952297 , -0.06399927,  0.03699184, -0.0049545 ,\n",
       "        0.00645924,  0.08366015,  0.17717533,  0.07869636,  0.10283144,\n",
       "        0.13096031,  0.11156187,  0.03299648, -0.11327075, -0.01649956])"
      ]
     },
     "execution_count": 21,
     "metadata": {},
     "output_type": "execute_result"
    }
   ],
   "source": [
    "x_means"
   ]
  }
 ],
 "metadata": {
  "kernelspec": {
   "display_name": "pytorch",
   "language": "python",
   "name": "pt1.1"
  },
  "language_info": {
   "codemirror_mode": {
    "name": "ipython",
    "version": 3
   },
   "file_extension": ".py",
   "mimetype": "text/x-python",
   "name": "python",
   "nbconvert_exporter": "python",
   "pygments_lexer": "ipython3",
   "version": "3.9.7"
  }
 },
 "nbformat": 4,
 "nbformat_minor": 5
}
