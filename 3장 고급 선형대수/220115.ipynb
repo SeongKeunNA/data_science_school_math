{
 "cells": [
  {
   "cell_type": "markdown",
   "id": "a210e646",
   "metadata": {},
   "source": [
    "### 대칭행렬을 랭크-1 행렬의 합으로 분해"
   ]
  },
  {
   "cell_type": "markdown",
   "id": "40e78b1c",
   "metadata": {},
   "source": [
    "N차원 대칭행렬 A는 다음처럼 N개의 랭크-1 행렬 Ai = vi*vi.T의 합으로 표시할 수 있다."
   ]
  },
  {
   "cell_type": "markdown",
   "id": "3302ca9b",
   "metadata": {},
   "source": [
    "**A = V @ Λ @ V.T** <br>\n",
    "**A = ∑(λi vi vi.T) = ∑(λi* Ai) = λ1* A1 + ... + λn* An**"
   ]
  },
  {
   "cell_type": "code",
   "execution_count": 2,
   "id": "c6bd55dd",
   "metadata": {},
   "outputs": [
    {
     "data": {
      "text/plain": [
       "array([[60., 30., 20.],\n",
       "       [30., 20., 15.],\n",
       "       [20., 15., 12.]])"
      ]
     },
     "execution_count": 2,
     "metadata": {},
     "output_type": "execute_result"
    }
   ],
   "source": [
    "A = np.array([[60., 30., 20.],\n",
    "              [30., 20., 15.],\n",
    "              [20., 15., 12.]])\n",
    "\n",
    "w, V = np.linalg.eig(A)\n",
    "w1, w2, w3 = w\n",
    "v1 = V[:, 0:1]\n",
    "v2 = V[:, 1:2]\n",
    "v3 = V[:, 2:3]\n",
    "A1 = v1 @ v1.T\n",
    "A2 = v2 @ v2.T\n",
    "A3 = v3 @ v3.T\n",
    "\n",
    "w1*A1 + w2*A2 + w3*A3"
   ]
  },
  {
   "cell_type": "markdown",
   "id": "8b874ff6",
   "metadata": {},
   "source": [
    "**만약 0인 고윳값이 없다면** 역행렬도 다음처럼 N개의 랭크-1 행렬 Ai = vi * vi.T의 합으로 표시할 수 있다.<br>\n",
    "**A^-1 =  V @ Λ^-1 @ V.T = ∑(1 / λi * Ai) = 1 / λ1* A1 + ... + 1 / λn * An**"
   ]
  },
  {
   "cell_type": "code",
   "execution_count": 3,
   "id": "c794ad00",
   "metadata": {},
   "outputs": [
    {
     "data": {
      "text/plain": [
       "(array([[ 0.15, -0.6 ,  0.5 ],\n",
       "        [-0.6 ,  3.2 , -3.  ],\n",
       "        [ 0.5 , -3.  ,  3.  ]]),\n",
       " array([[ 0.15, -0.6 ,  0.5 ],\n",
       "        [-0.6 ,  3.2 , -3.  ],\n",
       "        [ 0.5 , -3.  ,  3.  ]]))"
      ]
     },
     "execution_count": 3,
     "metadata": {},
     "output_type": "execute_result"
    }
   ],
   "source": [
    "np.linalg.inv(A), 1 / w1 * A1 + 1 / w2 * A2 + 1/ w3 * A3"
   ]
  },
  {
   "cell_type": "markdown",
   "id": "f0322aa4",
   "metadata": {},
   "source": [
    "### 대칭행렬의 고윳값 부호"
   ]
  },
  {
   "cell_type": "markdown",
   "id": "573a1a20",
   "metadata": {},
   "source": [
    "대칭행렬이 위와 같이 랭크-1 행렬의 합으로 표시되고 고유벡터가 서로 직교한다는 성질을 이용하면 다음 정리를 증명할 수 있다."
   ]
  },
  {
   "cell_type": "markdown",
   "id": "5d988396",
   "metadata": {},
   "source": [
    "* 대칭행렬이 양의 정부호이면 고윳값은 모두 양수다. 역도 성립한다.\n",
    "* 대칭행렬이 양의 준정부호이면 고윳값은 모두 0이거나 양수다. 역도 성립한다."
   ]
  },
  {
   "cell_type": "markdown",
   "id": "0159e702",
   "metadata": {},
   "source": [
    "### 분산행렬"
   ]
  },
  {
   "cell_type": "markdown",
   "id": "1bc7b4b8",
   "metadata": {},
   "source": [
    "임의의 실수 행렬 X에 대해 X.T @ X인 정방행렬을 **분산행렬**이라고 한다.<br>\n",
    "* 분산행렬은 양의 준정부호이고 모든 고윳값은 0보다 크거나 같다."
   ]
  },
  {
   "cell_type": "markdown",
   "id": "56163730",
   "metadata": {},
   "source": [
    "### 연습문제 3.3.9"
   ]
  },
  {
   "cell_type": "code",
   "execution_count": 8,
   "id": "96c60cf5",
   "metadata": {},
   "outputs": [
    {
     "data": {
      "text/plain": [
       "array([9.20830507e+03, 3.15454317e+02, 1.19780429e+01, 3.55257020e+00])"
      ]
     },
     "execution_count": 8,
     "metadata": {},
     "output_type": "execute_result"
    }
   ],
   "source": [
    "from sklearn.datasets import load_iris\n",
    "iris = load_iris()\n",
    "X = iris.data\n",
    "\n",
    "COV = X.T @ X\n",
    "w, V = np.linalg.eig(COV)\n",
    "w"
   ]
  },
  {
   "cell_type": "code",
   "execution_count": 9,
   "id": "91cf90e2",
   "metadata": {},
   "outputs": [
    {
     "data": {
      "text/plain": [
       "array([1.58386796e+08, 1.18747372e+07, 4.17002244e+05, 1.61644573e+05,\n",
       "       2.52697480e+04, 1.47629635e+04, 8.18396001e+03, 6.07326738e+03,\n",
       "       4.23577535e+03, 6.06399504e+02, 3.27412564e+02, 3.04157837e+01,\n",
       "       2.19326965e+00])"
      ]
     },
     "execution_count": 9,
     "metadata": {},
     "output_type": "execute_result"
    }
   ],
   "source": [
    "from sklearn.datasets import load_boston\n",
    "boston = load_boston()\n",
    "X = boston.data\n",
    "\n",
    "COV = X.T @ X\n",
    "w, V = np.linalg.eig(COV)\n",
    "w"
   ]
  },
  {
   "cell_type": "markdown",
   "id": "d579764e",
   "metadata": {},
   "source": [
    "### 분산행렬의 역행렬"
   ]
  },
  {
   "cell_type": "markdown",
   "id": "8572bafd",
   "metadata": {},
   "source": [
    "* 행렬 X가 풀랭크이면 이 행렬의 분산행렬 X.T@X의 역행렬이 존재한다."
   ]
  },
  {
   "cell_type": "markdown",
   "id": "d4ddad88",
   "metadata": {},
   "source": [
    "### 연습문제 3.3.10"
   ]
  },
  {
   "cell_type": "markdown",
   "id": "7e67d003",
   "metadata": {},
   "source": [
    "1. 양의 정부호인 대칭행렬은 항상 역행렬이 존재하는가?<br>\n",
    ":  그렇다. 역행렬이 존재하지 않는 경우는 행렬식이 0일 때이다. 그러나 양의 정부호인 대칭행렬은 양의 고윳값만 가지고, <br>\n",
    "   모든 고윳값의 곱 = 행렬식이기 때문에 양의 정부호인 대칭행렬은 항상 역행렬이 존재한다. <br>\n",
    "\n",
    "\n",
    "2. 역으로 역행렬이 존재하는 대칭행렬은 항상 양의 정부호인가? <br>\n",
    ":  아니다. 행렬식이 음수라 역행렬이 존재한다. 음수라는 것은 고윳값 중에 음수가 하나 이상 포함되어 있다는 뜻이고<br>\n",
    "   모든 고윳값이 양수가 아니면 양의 정부호가 아니다."
   ]
  },
  {
   "cell_type": "markdown",
   "id": "71217b3d",
   "metadata": {},
   "source": [
    "### 고유분해의 성질 요약"
   ]
  },
  {
   "cell_type": "markdown",
   "id": "ea618d16",
   "metadata": {},
   "source": [
    "정방행렬 (A∈R^NxN) ⊃ 대칭행렬 (A = A.T) ⊃ 공분산행렬 (A = X.T @ X) ⊃ 양의 정부호(PD)<br>\n",
    "1. 정방행렬: λ는 복소수, λ는 N개, AV = VΛ,  ∑(λi) = tr(A), ∏(λi) = det(A)\n",
    "2. 대칭행렬: λ는 실수, V.T = V^-1, A = V @Λ @ V.T, A = ∑(λi @ vi @ vi.T)\n",
    "3. 공분산행렬: 모든 고윳값 λi>=0 \n",
    "4. 양의 정부호: X가 풀랭크, 역행렬이 존재, 모든 고윳값 λi>0 "
   ]
  },
  {
   "cell_type": "markdown",
   "id": "201d70b3",
   "metadata": {},
   "source": [
    "N차원 정방행렬 A에 대해 다음과 같은 사항이 성립한다.\n",
    "* 행렬 A는 N개의 고윳값- 고유벡터를 가진다.(복소수인 경우와 중복인 경우 포함)\n",
    "* 행렬의 대각합은 모든 고윳값의 합과 같다.\n",
    "* 행렬의 행렬식은 모든 고윳값의 곱과 같다.\n",
    "* 행렬 A가 대칭행렬이면 실수 고윳값 N개를 가지며 고유벡터들이 서로 직교이다.\n",
    "* 행렬 A가 대칭행렬이고 고윳값이 모두 양수이면 양의 정부호이고 역행렬이 존재한다. 역도 성립한다.\n",
    "* 행렬 A가 어떤 행렬 X의 분산행렬 X.T @ X이면 0 또는 양의 고윳값을 가진다.\n",
    "* 행렬 X가 풀랭크이면 분산행렬 X.T @ X는 역행렬이 존재한다."
   ]
  },
  {
   "cell_type": "markdown",
   "id": "06cd47de",
   "metadata": {},
   "source": [
    "# 3.4 특잇값 분해"
   ]
  },
  {
   "cell_type": "markdown",
   "id": "fdba8bb8",
   "metadata": {},
   "source": [
    "정방행렬이 아닌 행렬은 고유분해가 불가능. 특잇값분해 해야 함."
   ]
  },
  {
   "cell_type": "markdown",
   "id": "9d048598",
   "metadata": {},
   "source": [
    "### 특잇값과 특이벡터"
   ]
  },
  {
   "cell_type": "markdown",
   "id": "b8423a86",
   "metadata": {},
   "source": [
    "N x M 크기의 행렬 A를 다음과 같은 3개의 행렬의 곱으로 나타낸 것을 특잇값분해/특이분해라고한다."
   ]
  },
  {
   "cell_type": "markdown",
   "id": "7fefe488",
   "metadata": {},
   "source": [
    "* 특잇값 분해는 모든 행렬에 대해 가능하다."
   ]
  },
  {
   "cell_type": "markdown",
   "id": "a168475e",
   "metadata": {},
   "source": [
    "* **A = U ∑ V.T**"
   ]
  },
  {
   "cell_type": "markdown",
   "id": "34db7aeb",
   "metadata": {},
   "source": [
    "여기에서 ∑는 대각성분이 양수인 대각행렬이고, 큰 수부터 작은 수 순서로 배열한다. (N x M)"
   ]
  },
  {
   "cell_type": "markdown",
   "id": "d807f918",
   "metadata": {},
   "source": [
    "U는 N차원 정방행렬로 모든 열벡터가 단위벡터이고 서로직교해야 한다. (N x N)"
   ]
  },
  {
   "cell_type": "markdown",
   "id": "3a19e358",
   "metadata": {},
   "source": [
    "V는 M차원 정방행렬로 모든 열벡터가 단위벡터이고 서로 직교해야한다.(M x M)"
   ]
  },
  {
   "cell_type": "markdown",
   "id": "1fcf9359",
   "metadata": {},
   "source": [
    "행렬 ∑의 대각성분들을 **특잇값**, 행렬 U의 열벡터들을 **왼쪽 특이벡터**, 행렬 V의 행벡터들을 **오른쪽 특이벡터**라고 부른다."
   ]
  },
  {
   "cell_type": "markdown",
   "id": "f07aa396",
   "metadata": {},
   "source": [
    "### 특잇값 분해 행렬의 크기"
   ]
  },
  {
   "cell_type": "markdown",
   "id": "3bd40eb0",
   "metadata": {},
   "source": [
    "특잇값의 개수는 행렬의 열과 행 개수 중 작은 값과 같다."
   ]
  },
  {
   "cell_type": "markdown",
   "id": "8fbbcfe8",
   "metadata": {},
   "source": [
    "### 특잇값 분해의 축소형"
   ]
  },
  {
   "cell_type": "markdown",
   "id": "fa3903e8",
   "metadata": {},
   "source": [
    "특잇값 대각행렬에서 0인 부분은 사실상 아무런 의미가 없기 때문에 대각행렬의 0 원소 부분과 이에 대응하는 왼쪽(혹은 오른쪽)<br>\n",
    "특이 벡터들을 없애고 다음처럼 축소된 형태로 해도 마찬가지로 원래 행렬이 나온다."
   ]
  },
  {
   "cell_type": "markdown",
   "id": "787148b4",
   "metadata": {},
   "source": [
    "1. N > M인 경우 왼쪽 특이벡터 중에서 u_m+1, ... u_N을 없앤다.\n",
    "2. N < M인 경우 오른쪽 특이벡터 중에서 v_n+1, ...vn을 없앤다."
   ]
  },
  {
   "cell_type": "markdown",
   "id": "a5d32a84",
   "metadata": {},
   "source": [
    "### 파이썬을 사용한 특잇값 분해"
   ]
  },
  {
   "cell_type": "markdown",
   "id": "e87a9693",
   "metadata": {},
   "source": [
    "numpy.linalg 서브패키지와 scipy.linalg 서브패키지에서는 특잇값 분해를 할 수 있는 svd() 명령 제공<br>\n",
    "(오른쪽 특이행렬은 전치행렬로 출력)"
   ]
  },
  {
   "cell_type": "code",
   "execution_count": 3,
   "id": "62b05322",
   "metadata": {
    "scrolled": true
   },
   "outputs": [
    {
     "data": {
      "text/plain": [
       "(array([[-4.08248290e-01,  8.94427191e-01, -1.82574186e-01],\n",
       "        [-8.16496581e-01, -4.47213595e-01, -3.65148372e-01],\n",
       "        [-4.08248290e-01, -1.94289029e-16,  9.12870929e-01]]),\n",
       " array([3.46410162, 3.16227766]),\n",
       " array([[3.46410162, 0.        ],\n",
       "        [0.        , 3.16227766],\n",
       "        [0.        , 0.        ]]),\n",
       " array([[-0.70710678, -0.70710678],\n",
       "        [ 0.70710678, -0.70710678]]),\n",
       " array([[ 3., -1.],\n",
       "        [ 1.,  3.],\n",
       "        [ 1.,  1.]]))"
      ]
     },
     "execution_count": 3,
     "metadata": {},
     "output_type": "execute_result"
    }
   ],
   "source": [
    "from numpy.linalg import svd\n",
    "A = np.array([[3, -1], [1, 3], [1, 1]])\n",
    "U, S, VT = svd(A)\n",
    "U, S, np.diag(S, 1)[:, 1:], VT, U @ np.diag(S, 1)[:, 1:] @ VT"
   ]
  },
  {
   "cell_type": "markdown",
   "id": "e7c5847a",
   "metadata": {},
   "source": [
    "축소형을 구하려면 인수 full_matrices=False로 지정"
   ]
  },
  {
   "cell_type": "code",
   "execution_count": 8,
   "id": "63ec2823",
   "metadata": {},
   "outputs": [
    {
     "data": {
      "text/plain": [
       "(array([[-4.08248290e-01,  8.94427191e-01],\n",
       "        [-8.16496581e-01, -4.47213595e-01],\n",
       "        [-4.08248290e-01, -1.94289029e-16]]),\n",
       " array([3.46410162, 3.16227766]),\n",
       " array([[-0.70710678, -0.70710678],\n",
       "        [ 0.70710678, -0.70710678]]),\n",
       " array([[ 3., -1.],\n",
       "        [ 1.,  3.],\n",
       "        [ 1.,  1.]]))"
      ]
     },
     "execution_count": 8,
     "metadata": {},
     "output_type": "execute_result"
    }
   ],
   "source": [
    "U2, S2, VT2 = svd(A, full_matrices=False)\n",
    "U2, S2, VT2, U2 @ np.diag(S2) @ VT2"
   ]
  },
  {
   "cell_type": "markdown",
   "id": "2d010c51",
   "metadata": {},
   "source": [
    "### 연습문제 3.4.1"
   ]
  },
  {
   "cell_type": "code",
   "execution_count": 7,
   "id": "a1c12db2",
   "metadata": {},
   "outputs": [
    {
     "name": "stdout",
     "output_type": "stream",
     "text": [
      "[[ 3.  2.  2.]\n",
      " [ 2.  3. -2.]]\n",
      "[[ 3.  2.  2.]\n",
      " [ 2.  3. -2.]]\n",
      "[[2. 4.]\n",
      " [1. 3.]\n",
      " [0. 0.]\n",
      " [0. 0.]]\n",
      "[[2. 4.]\n",
      " [1. 3.]\n",
      " [0. 0.]\n",
      " [0. 0.]]\n"
     ]
    }
   ],
   "source": [
    "B = np.array([[3, 2, 2,], [2, 3, -2]])\n",
    "C = np.array([[2, 4], [1, 3], [0, 0], [0, 0]])\n",
    "Ub1, Sb1, VTb1 = np.linalg.svd(B)\n",
    "Ub2, Sb2, VTb2 = np.linalg.svd(B, full_matrices = False)\n",
    "print(Ub1 @ np.diag(Sb1, -1)[1:, :] @ VTb1)\n",
    "print(Ub2 @ np.diag(Sb2) @ VTb2)\n",
    "\n",
    "Uc1, Sc1, VTc1 = np.linalg.svd(C)\n",
    "Uc2, Sc2, VTc2 = np.linalg.svd(C, full_matrices = False)\n",
    "print(Uc1 @ np.diag(Sc1, 2)[:, 2:] @ VTc1)\n",
    "print(Uc2 @ np.diag(Sc2) @ VTc2)\n"
   ]
  },
  {
   "cell_type": "code",
   "execution_count": 8,
   "id": "8eaf510c",
   "metadata": {},
   "outputs": [
    {
     "data": {
      "text/plain": [
       "(array([[ 0.70710678, -0.70710678],\n",
       "        [ 0.70710678,  0.70710678]]),\n",
       " array([[ 7.07106781e-01,  7.07106781e-01,  3.88578059e-16],\n",
       "        [-2.35702260e-01,  2.35702260e-01, -9.42809042e-01]]))"
      ]
     },
     "execution_count": 8,
     "metadata": {},
     "output_type": "execute_result"
    }
   ],
   "source": [
    "Ub2, VTb2"
   ]
  },
  {
   "cell_type": "code",
   "execution_count": 19,
   "id": "67f02e18",
   "metadata": {},
   "outputs": [
    {
     "data": {
      "text/plain": [
       "(array([5.4649857 , 0.36596619]),\n",
       " array([[0.        , 0.        , 5.4649857 , 0.        ],\n",
       "        [0.        , 0.        , 0.        , 0.36596619],\n",
       "        [0.        , 0.        , 0.        , 0.        ],\n",
       "        [0.        , 0.        , 0.        , 0.        ]]))"
      ]
     },
     "execution_count": 19,
     "metadata": {},
     "output_type": "execute_result"
    }
   ],
   "source": [
    "C = np.array([[2, 4], [1, 3], [0, 0], [0, 0]])\n",
    "Uc1, Sc1, VTc1 = svd(C)\n",
    "Sc1, np.diag(Sc1, 2)[:, 2:]"
   ]
  },
  {
   "cell_type": "markdown",
   "id": "36fce298",
   "metadata": {},
   "source": [
    "### 특잇값과 특이벡터의 관계"
   ]
  },
  {
   "cell_type": "markdown",
   "id": "064587f5",
   "metadata": {},
   "source": [
    "행렬 V는 정규직교 행렬이므로 전치행렬이 역행렬이다.\n",
    "V.T = V^-1\n",
    "\n",
    "특잇값분해된 등식의 양변에 V를 곱하자.\n",
    "AV = U∑V.TV = U∑\n",
    "\n",
    "1) N < M:<br>\n",
    "    [Av_1, Av_2, ... Av_N] = [σ_1u_1, σ_2u_2, ... σ_Nu_N ]<br>\n",
    "\n",
    "2) N > M:<br>\n",
    "    [Av_1, Av_2, ... Av_M] = [σ_1u_1, σ_2u_2, ... σ_Mu_M ]<br>"
   ]
  },
  {
   "cell_type": "markdown",
   "id": "aa18f7dc",
   "metadata": {},
   "source": [
    "즉, **Av_i = σ_iu_i (i = 1, ...min(M,N))**"
   ]
  },
  {
   "cell_type": "markdown",
   "id": "5de574d8",
   "metadata": {},
   "source": [
    "### 연습문제 3.4.2"
   ]
  },
  {
   "cell_type": "code",
   "execution_count": 14,
   "id": "4499d79d",
   "metadata": {},
   "outputs": [
    {
     "data": {
      "text/plain": [
       "(array([[ 3.53553391, -2.12132034],\n",
       "        [ 3.53553391,  2.12132034]]),\n",
       " array([[ 3.53553391, -2.12132034],\n",
       "        [ 3.53553391,  2.12132034]]),\n",
       " array([[-4.46716435, -0.21081425],\n",
       "        [-3.14809647,  0.29914646],\n",
       "        [ 0.        ,  0.        ],\n",
       "        [ 0.        ,  0.        ]]),\n",
       " array([[-4.46716435, -0.21081425],\n",
       "        [-3.14809647,  0.29914646],\n",
       "        [ 0.        ,  0.        ],\n",
       "        [ 0.        ,  0.        ]]))"
      ]
     },
     "execution_count": 14,
     "metadata": {},
     "output_type": "execute_result"
    }
   ],
   "source": [
    "from numpy.linalg import svd\n",
    "B = np.array([[3, 2, 2], [2, 3, -2]])\n",
    "Ub, Sb, VTb = svd(B, full_matrices = False)\n",
    "C = np.array([[2, 4],[1, 3], [0, 0], [0, 0]])\n",
    "Uc, Sc, VTc = svd(C, full_matrices = False)\n",
    "B @ VTb.T, Ub @ np.diag(Sb),C @ VTc.T, Uc @ np.diag(Sc)"
   ]
  },
  {
   "cell_type": "markdown",
   "id": "e2561e9d",
   "metadata": {},
   "source": [
    "### 특잇값분해와 고유분해의 관계"
   ]
  },
  {
   "cell_type": "markdown",
   "id": "142c2511",
   "metadata": {},
   "source": [
    "행렬 A의 분산행렬 A.T @ A는\n",
    "* **A.T @ A = VΛV.T**이고 여기에서 Λ는,<br>\n",
    "1. N > M: <br>\n",
    "    **Λ = diag(σ_i^2)**<br>\n",
    "2. N M: <br>\n",
    "    **Λ = diag(σ_i^2,...0..0)**"
   ]
  },
  {
   "cell_type": "markdown",
   "id": "6577a63a",
   "metadata": {},
   "source": [
    "여기서 행렬 A의 특잇값의 제곱(과 0)이 분산행렬 A.T @ A의 고윳값, **행렬 A의 오른쪽 특이벡터가 분산행렬 A.T @ A의 고유벡터**가 된다."
   ]
  },
  {
   "cell_type": "markdown",
   "id": "47cd28ea",
   "metadata": {},
   "source": [
    "마찬가지로 행렬 A의 왼쪽 특이벡터가 행렬 A @ A.T의 고유벡터가 된다."
   ]
  },
  {
   "cell_type": "code",
   "execution_count": null,
   "id": "2b264161",
   "metadata": {},
   "outputs": [],
   "source": [
    "ㄴ"
   ]
  }
 ],
 "metadata": {
  "kernelspec": {
   "display_name": "Python 3",
   "language": "python",
   "name": "python3"
  },
  "language_info": {
   "codemirror_mode": {
    "name": "ipython",
    "version": 3
   },
   "file_extension": ".py",
   "mimetype": "text/x-python",
   "name": "python",
   "nbconvert_exporter": "python",
   "pygments_lexer": "ipython3",
   "version": "3.8.8"
  }
 },
 "nbformat": 4,
 "nbformat_minor": 5
}
