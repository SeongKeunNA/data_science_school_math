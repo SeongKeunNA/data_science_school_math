{
 "cells": [
  {
   "cell_type": "markdown",
   "id": "57eb42bb",
   "metadata": {},
   "source": [
    "### 연습문제 3.4.3"
   ]
  },
  {
   "cell_type": "code",
   "execution_count": 6,
   "id": "d78054e5",
   "metadata": {},
   "outputs": [
    {
     "name": "stdout",
     "output_type": "stream",
     "text": [
      "[ 0. 10. 12.] [[ 1.82574186e-01 -8.94427191e-01 -4.08248290e-01]\n",
      " [ 3.65148372e-01  4.47213595e-01 -8.16496581e-01]\n",
      " [-9.12870929e-01  9.27403771e-16 -4.08248290e-01]]\n",
      "[12. 10.  0.] [[-4.08248290e-01 -8.94427191e-01  1.82574186e-01]\n",
      " [-8.16496581e-01  4.47213595e-01  3.65148372e-01]\n",
      " [-4.08248290e-01  9.27403771e-16 -9.12870929e-01]]\n"
     ]
    }
   ],
   "source": [
    "A = np.array([[3, -1], [1, 3], [1, 1]])\n",
    "U, S, VT = np.linalg.svd(A)\n",
    "\n",
    "w, V = np.linalg.eig(A @ A.T) \n",
    "idx = np.argsort(w **2 )[::-1] # 내림차순 정렬해 재배열\n",
    "print(w, V)\n",
    "w = w[idx] \n",
    "V = V[:, idx]\n",
    "print(w, V)"
   ]
  },
  {
   "cell_type": "markdown",
   "id": "134bb8d7",
   "metadata": {},
   "source": [
    "### 1차원 근사"
   ]
  },
  {
   "cell_type": "markdown",
   "id": "70592987",
   "metadata": {},
   "source": [
    "2차원 평면 위에 3개의 2차원 벡터 a_1, a_2, a_3이 있을 때, 원점을 지나면서 모든 점들과 가능한 한 가까이 있는 직선을 만들고자 한다.\n",
    "이때 직선의 방향을 어떻게 해야 할까?"
   ]
  },
  {
   "cell_type": "markdown",
   "id": "5ea84122",
   "metadata": {},
   "source": [
    "직선의 방향을 나타내는 단위 벡터를 w라 하자."
   ]
  },
  {
   "cell_type": "markdown",
   "id": "3f44c632",
   "metadata": {},
   "source": [
    "이 문제는 다음의 수식으로 표현할 수 있다."
   ]
  },
  {
   "cell_type": "markdown",
   "id": "2ac02765",
   "metadata": {},
   "source": [
    "**arg max_w (llAwll)^2**"
   ]
  },
  {
   "cell_type": "markdown",
   "id": "0a0a5045",
   "metadata": {},
   "source": [
    "### 1차원 근사의 풀이"
   ]
  },
  {
   "cell_type": "markdown",
   "id": "138405c8",
   "metadata": {},
   "source": [
    "예로 든 행렬 A ∈ R^(3x2)를 특잇값분해하여 두 특잇값, 왼쪽/오른쪽 특이벡터를 가진다."
   ]
  },
  {
   "cell_type": "markdown",
   "id": "940ae815",
   "metadata": {},
   "source": [
    "이 때 조건에 맞으면서 목표값을 가장 크게 하는 w는,"
   ]
  },
  {
   "cell_type": "markdown",
   "id": "392fe220",
   "metadata": {},
   "source": [
    "w = v1"
   ]
  },
  {
   "cell_type": "markdown",
   "id": "f38233a0",
   "metadata": {},
   "source": [
    "**즉, 첫 번째 오른쪽 특이벡터 방향으로 하는 것이다.**"
   ]
  },
  {
   "cell_type": "markdown",
   "id": "a08fac05",
   "metadata": {},
   "source": [
    "이 때 llAwll는 첫 번째 특잇값이 된다."
   ]
  },
  {
   "cell_type": "markdown",
   "id": "359565c3",
   "metadata": {},
   "source": [
    "**llAwll = δ1**"
   ]
  },
  {
   "cell_type": "markdown",
   "id": "c2b95989",
   "metadata": {},
   "source": [
    "### 일반적인 풀이"
   ]
  },
  {
   "cell_type": "markdown",
   "id": "641c92de",
   "metadata": {},
   "source": [
    "n = 3이 아니라 일반적인 경우에는"
   ]
  },
  {
   "cell_type": "markdown",
   "id": "e656b17e",
   "metadata": {},
   "source": [
    "**llAwll^2 = w.T @ A.T @ A @ w = ∑ (δ_i)^2 * (llV_i.T @ wll)^2**"
   ]
  },
  {
   "cell_type": "markdown",
   "id": "2bb63717",
   "metadata": {},
   "source": [
    "우리가 풀어야 할 문제는 다음과 같다."
   ]
  },
  {
   "cell_type": "markdown",
   "id": "15a760b2",
   "metadata": {},
   "source": [
    "**arg max_w (llAwll)^2 = arg max_w ∑ (δ_i)^2 * (llV_i.T @ wll)^2**"
   ]
  },
  {
   "cell_type": "markdown",
   "id": "1164a58d",
   "metadata": {},
   "source": [
    "이 값을 가장 크게 하려면 w를 가장 큰 특잇값에 대응하는 오른쪽 고유벡터 v1으로 해야 한다."
   ]
  },
  {
   "cell_type": "markdown",
   "id": "14c1a849",
   "metadata": {},
   "source": [
    "### 랭크-1 근사문제"
   ]
  },
  {
   "cell_type": "markdown",
   "id": "c3f152b2",
   "metadata": {},
   "source": [
    "n 개의 m차원 벡터을 1차원으로 투영하여 가장 비슷한 n개의 1차원 벡터를 만드는 문제"
   ]
  },
  {
   "cell_type": "markdown",
   "id": "67f020b3",
   "metadata": {},
   "source": [
    "즉, 원래 행렬 A에 랭크-1 행렬 ww.T를 곱해서 원래의 행렬 A와 가장 비슷한 행렬 A'을 만드는 문제"
   ]
  },
  {
   "cell_type": "markdown",
   "id": "d8428ef5",
   "metadata": {},
   "source": [
    "arg min_w llA-A'll = **arg min_w llA - A @ w @ w.Tll**"
   ]
  },
  {
   "cell_type": "markdown",
   "id": "f9c421c5",
   "metadata": {},
   "source": [
    "### k 차원 근사"
   ]
  },
  {
   "cell_type": "markdown",
   "id": "2a9c8a12",
   "metadata": {},
   "source": [
    "n개의 m차원 벡터를 1차원이 아니라 정규직교인 기저벡터로 이루어진 k차원 벡터공간으로 투영하여<br>\n",
    "가장 비슷한 n개의 k차원 벡터를 만드는 정규직교 기저벡터를 찾는 문제"
   ]
  },
  {
   "cell_type": "markdown",
   "id": "892b6b90",
   "metadata": {},
   "source": [
    "* **가장 큰 k개의 특잇값에 대응하는 오른쪽 특이벡터가 기저벡터일 때 가장 값이 커진다.**"
   ]
  },
  {
   "cell_type": "markdown",
   "id": "f10caedf",
   "metadata": {},
   "source": [
    "### 랭크-k 근사문제"
   ]
  },
  {
   "cell_type": "markdown",
   "id": "b2aa6577",
   "metadata": {},
   "source": [
    "원래 행렬 A에 랭크-k 행렬 WW.T를 곱해서 원래의 행렬 A와 가장 비슷한 행렬 A'를 만드는 문제"
   ]
  },
  {
   "cell_type": "markdown",
   "id": "ba5b8841",
   "metadata": {},
   "source": [
    "* **arg min_(w1,w2...wk) (llA-A @ W @ W.Tll)**"
   ]
  }
 ],
 "metadata": {
  "kernelspec": {
   "display_name": "Python 3",
   "language": "python",
   "name": "python3"
  },
  "language_info": {
   "codemirror_mode": {
    "name": "ipython",
    "version": 3
   },
   "file_extension": ".py",
   "mimetype": "text/x-python",
   "name": "python",
   "nbconvert_exporter": "python",
   "pygments_lexer": "ipython3",
   "version": "3.8.8"
  }
 },
 "nbformat": 4,
 "nbformat_minor": 5
}
