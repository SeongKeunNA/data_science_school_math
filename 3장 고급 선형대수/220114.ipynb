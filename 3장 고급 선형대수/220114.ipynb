{
 "cells": [
  {
   "cell_type": "markdown",
   "id": "690e54b3",
   "metadata": {},
   "source": [
    "# 고윳값분해"
   ]
  },
  {
   "cell_type": "markdown",
   "id": "49b4e92f",
   "metadata": {},
   "source": [
    "### 고윳값과 고유벡터"
   ]
  },
  {
   "cell_type": "markdown",
   "id": "907dc812",
   "metadata": {},
   "source": [
    "정방행렬 A에 대해 다음 식을 만족하는 영벡터가 아닌 벡터 v, 실수 λ를 찾을 수 있다고 가정하자.<br><br>\n",
    "**Av = λv** <br>\n",
    "<br>\n",
    "위 식을 만족하는 실수 λ를 **고윳값**, 벡터 v를 **고유벡터**라고 한다. <br>\n",
    "고윳값과 고유벡터를 찾는 작업을 **고유분해** 또는 **고윳값 분해**라고 한다.<br> \n",
    "<br>\n",
    "행렬 A의 고유벡터는 행렬 A를 곱해서 변환을 해도 방향이 바뀌지 않는 벡터다.<br>\n",
    "고윳값은 변환된 벡터와 원래 고유벡터의 크기 비율이다.<br>\n",
    "<br>\n",
    "\n",
    "**Av - λv = (A - λ)v = 0**"
   ]
  },
  {
   "cell_type": "markdown",
   "id": "0d3f8194",
   "metadata": {},
   "source": [
    "어떤 벡터 v가 고유벡터가 되면 이 벡터에 실수를 곱한 벡터 cv, 즉 v와 방향이 같은 벡터는 모두 고유벡터가 된다.\n",
    "\n",
    "**A(cv) = cAv - cλv = λ(cv)**"
   ]
  },
  {
   "cell_type": "markdown",
   "id": "8484fed2",
   "metadata": {},
   "source": [
    "그래서 보통 고유벡터를 표시할 때는 길이가 1인 단위벡터가 되도록 정규화함\n",
    "<br>v // llvll"
   ]
  },
  {
   "cell_type": "markdown",
   "id": "f87723ad",
   "metadata": {},
   "source": [
    "### 연습문제 3.3.1"
   ]
  },
  {
   "cell_type": "code",
   "execution_count": 6,
   "id": "119a5d4a",
   "metadata": {},
   "outputs": [
    {
     "data": {
      "text/plain": [
       "(array([[3.],\n",
       "        [2.]]),\n",
       " array([[-1.],\n",
       "        [ 1.]]),\n",
       " array([[0.83205029],\n",
       "        [0.5547002 ]]),\n",
       " array([[-0.70710678],\n",
       "        [ 0.70710678]]))"
      ]
     },
     "execution_count": 6,
     "metadata": {},
     "output_type": "execute_result"
    }
   ],
   "source": [
    "B = np.array([[2, 3], [2, 1]])\n",
    "λ1 = 4\n",
    "λ2 = -1\n",
    "v1 = np.array([[3], [2]])\n",
    "v2 = np.array([[-1], [1]])\n",
    "v1_ = v1 / np.linalg.norm(v1)\n",
    "v2_ = v2 / np.linalg.norm(v2)\n",
    "(B @ v1) / λ1 , (B @ v2) / λ2, v1_, v2_"
   ]
  },
  {
   "cell_type": "markdown",
   "id": "cdfae2af",
   "metadata": {},
   "source": [
    "### 특성방정식"
   ]
  },
  {
   "cell_type": "markdown",
   "id": "3e7a25d6",
   "metadata": {},
   "source": [
    "행렬 A의 고윳값은 A - λI의 행렬식이 0이 되도록 하는 **특성방정식**의 해를 구하면 된다.<br>\n",
    "**det(A - λI) = 0** (A - λI의 역행렬이 존재한다면 고윳값 조건을 만족하는 벡터가 항상 영벡터가 됨)<br>\n",
    "**(A - λI)^-1 (A - λI) = 0 -> v = 0**"
   ]
  },
  {
   "cell_type": "markdown",
   "id": "82db3b44",
   "metadata": {},
   "source": [
    "특성방정식을 풀었을 때 고윳값의 갯수가 방정식의 차원보다 적을 경우 **중복고윳값**을 가짐"
   ]
  },
  {
   "cell_type": "markdown",
   "id": "afbb17d1",
   "metadata": {},
   "source": [
    "### 고윳값의 개수"
   ]
  },
  {
   "cell_type": "markdown",
   "id": "54ccf5a2",
   "metadata": {},
   "source": [
    "중복된 고윳값을 별개로 생각하고 복소수인 고윳값도 고려한다면 n차원 정방행렬의 고윳값은 항상  n개다."
   ]
  },
  {
   "cell_type": "markdown",
   "id": "6ce82649",
   "metadata": {},
   "source": [
    "### 고윳값과 대각합/행렬식"
   ]
  },
  {
   "cell_type": "markdown",
   "id": "78ab7613",
   "metadata": {},
   "source": [
    "어떤 행렬의 고윳값이 λ1, λ2, ... λn 이라고 하면 **모든 고윳값의 곱은 행렬식의 값**과 같고, <br>\n",
    "**모든 고윳값의 합은 대각합의 값**과 같다."
   ]
  },
  {
   "cell_type": "markdown",
   "id": "f7ab191a",
   "metadata": {},
   "source": [
    "### 고유벡터의 계산"
   ]
  },
  {
   "cell_type": "markdown",
   "id": "48f54389",
   "metadata": {},
   "source": [
    "고윳값을 알면 다음 연립 방정식을 풀어 고유벡터를 구할 수 있다.<br>\n",
    "**(A - λI)v = 0**"
   ]
  },
  {
   "cell_type": "markdown",
   "id": "6c095526",
   "metadata": {},
   "source": [
    "고윳값이 중복되었다고 고유벡터도 항상 중복되는 것은 아님<br>\n",
    "ex) 2차원 항등행렬 I의 고윳값은 1이라는 중복된 고윳값을 가지지만, <br>\n",
    "임의의 2차원 벡터는 모두 고유벡터가 된다."
   ]
  },
  {
   "cell_type": "markdown",
   "id": "f1a8596a",
   "metadata": {},
   "source": [
    "### 넘파이를 사용한 고유분해"
   ]
  },
  {
   "cell_type": "markdown",
   "id": "38f6f100",
   "metadata": {},
   "source": [
    "**np.linalg.eig(A)**: 고윳값을 벡터 형태로, 고유벡터를 열을 고유벡터로 가지는 행렬 형태로 표현(실수 값 없을 시 복소수 계산)"
   ]
  },
  {
   "cell_type": "code",
   "execution_count": 10,
   "id": "7279a4e1",
   "metadata": {},
   "outputs": [
    {
     "data": {
      "text/plain": [
       "(array([-0.99999998, -1.00000002]),\n",
       " array([[0.70710678, 0.70710678],\n",
       "        [0.70710678, 0.70710678]]))"
      ]
     },
     "execution_count": 10,
     "metadata": {},
     "output_type": "execute_result"
    }
   ],
   "source": [
    "A = np.array([[1, -2], [2, -3]])\n",
    "w1, V1 = np.linalg.eig(A)\n",
    "w1, V1"
   ]
  },
  {
   "cell_type": "code",
   "execution_count": 13,
   "id": "9e98a629",
   "metadata": {},
   "outputs": [
    {
     "data": {
      "text/plain": [
       "(array([ 4., -1.]),\n",
       " array([[ 0.83205029, -0.70710678],\n",
       "        [ 0.5547002 ,  0.70710678]]))"
      ]
     },
     "execution_count": 13,
     "metadata": {},
     "output_type": "execute_result"
    }
   ],
   "source": [
    "B2 = np.array([[2, -3], [2, 1]])\n",
    "w2, V2 = np.linalg.eig(B)\n",
    "w2, V2"
   ]
  },
  {
   "cell_type": "code",
   "execution_count": 12,
   "id": "1fe25382",
   "metadata": {},
   "outputs": [
    {
     "data": {
      "text/plain": [
       "(array([0.+1.j, 0.-1.j]),\n",
       " array([[0.70710678+0.j        , 0.70710678-0.j        ],\n",
       "        [0.        -0.70710678j, 0.        +0.70710678j]]))"
      ]
     },
     "execution_count": 12,
     "metadata": {},
     "output_type": "execute_result"
    }
   ],
   "source": [
    "C = np.array([[0, -1], [1, 0]])\n",
    "w3, V3 = np.linalg.eig(C)\n",
    "w3, V3"
   ]
  },
  {
   "cell_type": "markdown",
   "id": "68ff15b0",
   "metadata": {},
   "source": [
    "### 연습문제 3.3.5"
   ]
  },
  {
   "cell_type": "code",
   "execution_count": 15,
   "id": "2d20f22d",
   "metadata": {},
   "outputs": [
    {
     "data": {
      "text/plain": [
       "(array([ 4., -1.]),\n",
       " array([[ 0.83205029, -0.70710678],\n",
       "        [ 0.5547002 ,  0.70710678]]))"
      ]
     },
     "execution_count": 15,
     "metadata": {},
     "output_type": "execute_result"
    }
   ],
   "source": [
    "E = np.array([[2, 3], [2, 1]])\n",
    "we, Ve = np.linalg.eig(E)\n",
    "we, Ve"
   ]
  },
  {
   "cell_type": "code",
   "execution_count": 16,
   "id": "443979fb",
   "metadata": {},
   "outputs": [
    {
     "data": {
      "text/plain": [
       "(array([1., 1.]),\n",
       " array([[ 1.00000000e+00, -1.00000000e+00],\n",
       "        [ 0.00000000e+00,  2.22044605e-16]]))"
      ]
     },
     "execution_count": 16,
     "metadata": {},
     "output_type": "execute_result"
    }
   ],
   "source": [
    "F = np.array([[1, 1], [0, 1]])\n",
    "wf, Vf = np.linalg.eig(F)\n",
    "wf, Vf"
   ]
  },
  {
   "cell_type": "markdown",
   "id": "27d6b4d1",
   "metadata": {},
   "source": [
    "### 대각화"
   ]
  },
  {
   "cell_type": "markdown",
   "id": "ef130961",
   "metadata": {},
   "source": [
    "N차원 정방행렬 A가 복소수 고윳값 N개와 이에 대응하는 고유벡터를 가진다는 성질을 이용하면 다음처럼 행렬을 분해할 수 있다."
   ]
  },
  {
   "cell_type": "markdown",
   "id": "6135b8b9",
   "metadata": {},
   "source": [
    "**고유벡터행렬 V**는 고유벡터를 열벡터로 옆으로 쌓아서 만든 행렬이다.<br>\n",
    "**고윳값행렬 Λ**은 고윳값을 대각성분으로 가지는 대각행렬이다.<br>\n",
    "<br>\n",
    "위와 같이 고유벡터행렬과 고윳값행렬을 정의하면 행렬과 고유벡터행렬의 곱은,<br>\n",
    "고유벡터행렬과 고윳값행렬의 곱과 같다.<br>\n",
    "**AV = VΛ**"
   ]
  },
  {
   "cell_type": "markdown",
   "id": "9432fc72",
   "metadata": {},
   "source": [
    "만약 고유벡터행렬 V의 역행렬이 존재한다면 행렬을  다음처럼 고유벡터행렬과 고윳값행렬의 곱으로 표현할 수 있다.<br>\n",
    "이를 행렬의 **대각화**라고한다.<br>\n",
    "**A = VΛΛ^-1**"
   ]
  },
  {
   "cell_type": "markdown",
   "id": "2e861535",
   "metadata": {},
   "source": [
    "### 연습문제 3.3.6"
   ]
  },
  {
   "cell_type": "code",
   "execution_count": 9,
   "id": "5009be97",
   "metadata": {},
   "outputs": [
    {
     "name": "stdout",
     "output_type": "stream",
     "text": [
      "[[ 0.83205029 -0.70710678]\n",
      " [ 0.5547002   0.70710678]] [[ 0.72111026  0.72111026]\n",
      " [-0.56568542  0.84852814]] [[ 4.  0.]\n",
      " [ 0. -1.]]\n"
     ]
    },
    {
     "data": {
      "text/plain": [
       "array([[2., 3.],\n",
       "       [2., 1.]])"
      ]
     },
     "execution_count": 9,
     "metadata": {},
     "output_type": "execute_result"
    }
   ],
   "source": [
    "A = np.array([[2, 3], [2, 1]])\n",
    "w1, v1 = np.linalg.eig(A)\n",
    "v1_inverse =np.linalg.inv(v1)\n",
    "print(v1, v1_inverse, np.diag(w1))\n",
    "v1 @ np.diag(w1) @ v1_inverse"
   ]
  },
  {
   "cell_type": "markdown",
   "id": "b71eba4c",
   "metadata": {},
   "source": [
    "### 연습문제 3.3.7"
   ]
  },
  {
   "cell_type": "code",
   "execution_count": 11,
   "id": "06162730",
   "metadata": {},
   "outputs": [
    {
     "data": {
      "text/plain": [
       "(array([[ 1.00000000e+00, -1.00000000e+00],\n",
       "        [ 0.00000000e+00,  2.22044605e-16]]),\n",
       " 1)"
      ]
     },
     "execution_count": 11,
     "metadata": {},
     "output_type": "execute_result"
    }
   ],
   "source": [
    "B = np.array([[1, 1], [0, 1]])\n",
    "w2, v2 = np.linalg.eig(B)\n",
    "v2, np.linalg.matrix_rank(v2)"
   ]
  },
  {
   "cell_type": "markdown",
   "id": "4d2e8851",
   "metadata": {},
   "source": [
    "### 대각화가능"
   ]
  },
  {
   "cell_type": "markdown",
   "id": "2e711fc8",
   "metadata": {},
   "source": [
    "고유벡터들이 선형독립일 경우"
   ]
  },
  {
   "cell_type": "markdown",
   "id": "751ca762",
   "metadata": {},
   "source": [
    "### 고윳값과 역행렬"
   ]
  },
  {
   "cell_type": "markdown",
   "id": "7f304db7",
   "metadata": {},
   "source": [
    "대각화 가능한 행렬에 0인 고윳값이 없으면 항상 역행렬이 존재함"
   ]
  },
  {
   "cell_type": "markdown",
   "id": "7f99dc58",
   "metadata": {},
   "source": [
    "### 연습문제 3.3.8"
   ]
  },
  {
   "cell_type": "code",
   "execution_count": 19,
   "id": "bcadbb5b",
   "metadata": {},
   "outputs": [
    {
     "data": {
      "text/plain": [
       "(array([[-0.25,  0.75],\n",
       "        [ 0.5 , -0.5 ]]),\n",
       " array([[-0.25,  0.75],\n",
       "        [ 0.5 , -0.5 ]]))"
      ]
     },
     "execution_count": 19,
     "metadata": {},
     "output_type": "execute_result"
    }
   ],
   "source": [
    "C = np.array([[2, 3], [2, 1]])\n",
    "w, v = np.linalg.eig(C)\n",
    "vinv = np.linalg.inv(v)\n",
    "v @ np.diag(1 / w) @ vinv, np.linalg.inv(C)"
   ]
  },
  {
   "cell_type": "markdown",
   "id": "ce6a38d4",
   "metadata": {},
   "source": [
    "### 대칭행렬의 고유분해"
   ]
  },
  {
   "cell_type": "markdown",
   "id": "5b479611",
   "metadata": {},
   "source": [
    "행렬 A가 실수인 대칭행렬이면 고윳값이 실수이고 고유벡터는 서로직교한다."
   ]
  },
  {
   "cell_type": "markdown",
   "id": "a2cd2b50",
   "metadata": {},
   "source": [
    "만약 고유벡터들이 크기가 1이 되도록 정규화된 상태라면 고유벡터 행렬 V는 정규직교행렬이므로 **전치행렬이 역행렬**이다"
   ]
  },
  {
   "cell_type": "markdown",
   "id": "7ed5dea0",
   "metadata": {},
   "source": [
    "**A = V @ Λ @ V.T**"
   ]
  }
 ],
 "metadata": {
  "kernelspec": {
   "display_name": "Python 3",
   "language": "python",
   "name": "python3"
  },
  "language_info": {
   "codemirror_mode": {
    "name": "ipython",
    "version": 3
   },
   "file_extension": ".py",
   "mimetype": "text/x-python",
   "name": "python",
   "nbconvert_exporter": "python",
   "pygments_lexer": "ipython3",
   "version": "3.8.8"
  }
 },
 "nbformat": 4,
 "nbformat_minor": 5
}
